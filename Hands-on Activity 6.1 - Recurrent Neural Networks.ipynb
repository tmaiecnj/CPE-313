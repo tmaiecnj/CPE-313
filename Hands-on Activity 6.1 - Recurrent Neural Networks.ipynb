{
  "cells": [
    {
      "cell_type": "markdown",
      "metadata": {
        "id": "view-in-github",
        "colab_type": "text"
      },
      "source": [
        "<a href=\"https://colab.research.google.com/github/tmaiecnj/CPE-313/blob/main/Hands-on%20Activity%206.1%20-%20Recurrent%20Neural%20Networks.ipynb\" target=\"_parent\"><img src=\"https://colab.research.google.com/assets/colab-badge.svg\" alt=\"Open In Colab\"/></a>"
      ]
    },
    {
      "cell_type": "markdown",
      "source": [
        "Github Link: [Hands-on Activity 6.1: Recurrent Neural Networks](https://github.com/tmaiecnj/CPE-313/blob/main/Hands-on%20Activity%206.1%20-%20Recurrent%20Neural%20Networks.ipynb)"
      ],
      "metadata": {
        "id": "vHbv9crvMcbs"
      },
      "id": "vHbv9crvMcbs"
    },
    {
      "cell_type": "markdown",
      "id": "fourth-lesbian",
      "metadata": {
        "id": "fourth-lesbian"
      },
      "source": [
        "# Activity 3.1 - Recurrent Neural Networks"
      ]
    },
    {
      "cell_type": "markdown",
      "id": "historical-import",
      "metadata": {
        "id": "historical-import"
      },
      "source": [
        "## Objective(s):\n",
        "\n",
        "This activity aims to introduce how to build a recurrent neural network"
      ]
    },
    {
      "cell_type": "markdown",
      "id": "related-karma",
      "metadata": {
        "id": "related-karma"
      },
      "source": [
        "## Intended Learning Outcomes (ILOs):\n",
        "* Demonstrate how to build and train neural recurrent neural network\n",
        "* Evaluate the score and accuracy of the recurrent neural network"
      ]
    },
    {
      "cell_type": "markdown",
      "id": "fossil-thermal",
      "metadata": {
        "id": "fossil-thermal"
      },
      "source": [
        "## Resources:\n",
        "* Jupyter Notebook\n",
        "* IMDB"
      ]
    },
    {
      "cell_type": "markdown",
      "id": "australian-marketing",
      "metadata": {
        "id": "australian-marketing"
      },
      "source": [
        "## Procedures\n"
      ]
    },
    {
      "cell_type": "markdown",
      "source": [
        "Load the necessary libraries"
      ],
      "metadata": {
        "id": "mzL4kPTi7k3V"
      },
      "id": "mzL4kPTi7k3V"
    },
    {
      "cell_type": "code",
      "execution_count": null,
      "id": "based-growing",
      "metadata": {
        "id": "based-growing"
      },
      "outputs": [],
      "source": [
        "from __future__ import print_function\n",
        "import keras\n",
        "from keras.preprocessing import sequence\n",
        "from keras.models import Sequential\n",
        "from keras.layers import Dense, Embedding\n",
        "from keras.layers import SimpleRNN\n",
        "from keras.datasets import imdb\n",
        "from keras import initializers\n",
        "\n",
        "import warnings\n",
        "warnings.filterwarnings('ignore')"
      ]
    },
    {
      "cell_type": "markdown",
      "id": "romance-object",
      "metadata": {
        "id": "romance-object"
      },
      "source": [
        "* Set the max_features to 20000\n",
        "* Set the maximum length of a sequence\n",
        "* Use the batch size of 32"
      ]
    },
    {
      "cell_type": "code",
      "execution_count": null,
      "id": "pending-finance",
      "metadata": {
        "id": "pending-finance"
      },
      "outputs": [],
      "source": [
        "max_features = 20000\n",
        "maxlen = 30\n",
        "batch_size = 32"
      ]
    },
    {
      "cell_type": "markdown",
      "id": "juvenile-defensive",
      "metadata": {
        "id": "juvenile-defensive"
      },
      "source": [
        "Load the data"
      ]
    },
    {
      "cell_type": "code",
      "execution_count": null,
      "id": "familiar-escape",
      "metadata": {
        "id": "familiar-escape",
        "colab": {
          "base_uri": "https://localhost:8080/"
        },
        "outputId": "2cd08b5e-e6d3-4cda-e970-74acc2794d1a"
      },
      "outputs": [
        {
          "output_type": "stream",
          "name": "stdout",
          "text": [
            "Downloading data from https://storage.googleapis.com/tensorflow/tf-keras-datasets/imdb.npz\n",
            "17464789/17464789 [==============================] - 0s 0us/step\n",
            "25000 train sequences\n",
            "25000 test sequences\n"
          ]
        }
      ],
      "source": [
        "(x_train, y_train), (x_test, y_test) = imdb.load_data(num_words=max_features)\n",
        "print(len(x_train), 'train sequences')\n",
        "print(len(x_test), 'test sequences')"
      ]
    },
    {
      "cell_type": "markdown",
      "id": "hairy-volleyball",
      "metadata": {
        "id": "hairy-volleyball"
      },
      "source": [
        " Truncates the sequences so that they are of the maximum length"
      ]
    },
    {
      "cell_type": "code",
      "execution_count": null,
      "id": "distant-praise",
      "metadata": {
        "id": "distant-praise",
        "colab": {
          "base_uri": "https://localhost:8080/"
        },
        "outputId": "3bb86ee6-22e8-4861-b422-c2cff07553c7"
      },
      "outputs": [
        {
          "output_type": "stream",
          "name": "stdout",
          "text": [
            "x_train shape: (25000, 30)\n",
            "x_test shape: (25000, 30)\n"
          ]
        }
      ],
      "source": [
        "x_train = sequence.pad_sequences(x_train, maxlen=maxlen)\n",
        "x_test = sequence.pad_sequences(x_test, maxlen=maxlen)\n",
        "print('x_train shape:', x_train.shape)\n",
        "print('x_test shape:', x_test.shape)"
      ]
    },
    {
      "cell_type": "markdown",
      "source": [
        "Check the example of sequence"
      ],
      "metadata": {
        "id": "FWyR031l65j8"
      },
      "id": "FWyR031l65j8"
    },
    {
      "cell_type": "code",
      "execution_count": null,
      "id": "surprising-bacteria",
      "metadata": {
        "id": "surprising-bacteria",
        "colab": {
          "base_uri": "https://localhost:8080/"
        },
        "outputId": "b28328c4-99b3-47ed-b576-4f4c9c76cde7"
      },
      "outputs": [
        {
          "output_type": "execute_result",
          "data": {
            "text/plain": [
              "array([  219,   141,    35,   221,   956,    54,    13,    16,    11,\n",
              "        2714,    61,   322,   423,    12,    38,    76,    59,  1803,\n",
              "          72,     8, 10508,    23,     5,   967,    12,    38,    85,\n",
              "          62,   358,    99], dtype=int32)"
            ]
          },
          "metadata": {},
          "execution_count": 6
        }
      ],
      "source": [
        "x_train[123,:]"
      ]
    },
    {
      "cell_type": "markdown",
      "id": "quantitative-breath",
      "metadata": {
        "id": "quantitative-breath"
      },
      "source": [
        "Build a recurrent neural network"
      ]
    },
    {
      "cell_type": "code",
      "execution_count": null,
      "id": "closed-writer",
      "metadata": {
        "id": "closed-writer"
      },
      "outputs": [],
      "source": [
        "rnn_hidden_dim = 5\n",
        "word_embedding_dim = 50\n",
        "model_rnn = Sequential()\n",
        "model_rnn.add(Embedding(max_features, word_embedding_dim))  #This layer takes each integer in the sequence and embeds it in a 50-dimensional vector\n",
        "model_rnn.add(SimpleRNN(rnn_hidden_dim,\n",
        "                    kernel_initializer=initializers.RandomNormal(stddev=0.001),\n",
        "                    recurrent_initializer=initializers.Identity(gain=1.0),\n",
        "                    activation='relu',\n",
        "                    input_shape=x_train.shape[1:]))\n",
        "\n",
        "model_rnn.add(Dense(1, activation='sigmoid'))"
      ]
    },
    {
      "cell_type": "code",
      "execution_count": null,
      "id": "developmental-foster",
      "metadata": {
        "id": "developmental-foster"
      },
      "outputs": [],
      "source": [
        "rmsprop = keras.optimizers.RMSprop(learning_rate = .0001)\n",
        "\n",
        "model_rnn.compile(loss='binary_crossentropy',\n",
        "              optimizer=rmsprop,\n",
        "              metrics=['accuracy'])"
      ]
    },
    {
      "cell_type": "code",
      "execution_count": null,
      "id": "joined-athletics",
      "metadata": {
        "id": "joined-athletics",
        "colab": {
          "base_uri": "https://localhost:8080/"
        },
        "outputId": "9e0c0390-9039-4ff1-d394-23b4e83a0119"
      },
      "outputs": [
        {
          "output_type": "stream",
          "name": "stdout",
          "text": [
            "Epoch 1/10\n",
            "782/782 [==============================] - 13s 14ms/step - loss: 0.6759 - accuracy: 0.5794 - val_loss: 0.6452 - val_accuracy: 0.6528\n",
            "Epoch 2/10\n",
            "782/782 [==============================] - 11s 14ms/step - loss: 0.6108 - accuracy: 0.6978 - val_loss: 0.5896 - val_accuracy: 0.7058\n",
            "Epoch 3/10\n",
            "782/782 [==============================] - 12s 16ms/step - loss: 0.5432 - accuracy: 0.7413 - val_loss: 0.5369 - val_accuracy: 0.7317\n",
            "Epoch 4/10\n",
            "782/782 [==============================] - 12s 15ms/step - loss: 0.4874 - accuracy: 0.7716 - val_loss: 0.5061 - val_accuracy: 0.7477\n",
            "Epoch 5/10\n",
            "782/782 [==============================] - 11s 14ms/step - loss: 0.4498 - accuracy: 0.7924 - val_loss: 0.4862 - val_accuracy: 0.7621\n",
            "Epoch 6/10\n",
            "782/782 [==============================] - 11s 14ms/step - loss: 0.4234 - accuracy: 0.8083 - val_loss: 0.4727 - val_accuracy: 0.7711\n",
            "Epoch 7/10\n",
            "782/782 [==============================] - 10s 13ms/step - loss: 0.4027 - accuracy: 0.8191 - val_loss: 0.4593 - val_accuracy: 0.7807\n",
            "Epoch 8/10\n",
            "782/782 [==============================] - 11s 14ms/step - loss: 0.3876 - accuracy: 0.8260 - val_loss: 0.4560 - val_accuracy: 0.7846\n",
            "Epoch 9/10\n",
            "782/782 [==============================] - 11s 13ms/step - loss: 0.3762 - accuracy: 0.8340 - val_loss: 0.4534 - val_accuracy: 0.7855\n",
            "Epoch 10/10\n",
            "782/782 [==============================] - 11s 14ms/step - loss: 0.3670 - accuracy: 0.8392 - val_loss: 0.4539 - val_accuracy: 0.7872\n"
          ]
        },
        {
          "output_type": "execute_result",
          "data": {
            "text/plain": [
              "<keras.src.callbacks.History at 0x78ddff21cc10>"
            ]
          },
          "metadata": {},
          "execution_count": 9
        }
      ],
      "source": [
        "model_rnn.fit(x_train, y_train,\n",
        "          batch_size=batch_size,\n",
        "          epochs=10,\n",
        "          validation_data=(x_test, y_test))"
      ]
    },
    {
      "cell_type": "markdown",
      "id": "freelance-proposal",
      "metadata": {
        "id": "freelance-proposal"
      },
      "source": [
        "Evaluate the model using the test set."
      ]
    },
    {
      "cell_type": "code",
      "execution_count": null,
      "id": "early-connecticut",
      "metadata": {
        "id": "early-connecticut",
        "colab": {
          "base_uri": "https://localhost:8080/"
        },
        "outputId": "a6be3ed5-366c-431f-da25-22696b0e63cb"
      },
      "outputs": [
        {
          "output_type": "stream",
          "name": "stdout",
          "text": [
            "782/782 [==============================] - 3s 3ms/step - loss: 0.4539 - accuracy: 0.7872\n",
            "Test score: 0.45389264822006226\n",
            "Test accuracy: 0.7871599793434143\n"
          ]
        }
      ],
      "source": [
        "score, acc = model_rnn.evaluate(x_test, y_test,\n",
        "                            batch_size=batch_size)\n",
        "print('Test score:', score)\n",
        "print('Test accuracy:', acc)"
      ]
    },
    {
      "cell_type": "markdown",
      "id": "miniature-generic",
      "metadata": {
        "id": "miniature-generic"
      },
      "source": [
        "Interpret the result"
      ]
    },
    {
      "cell_type": "markdown",
      "source": [
        "*The result is lower and it can optimize the model by changing the hyperparameters and add ike regularization to prevent the overfitting.*"
      ],
      "metadata": {
        "id": "Kc33N_YzCH8K"
      },
      "id": "Kc33N_YzCH8K"
    },
    {
      "cell_type": "code",
      "source": [
        "# Wrap the code into function\n",
        "\n",
        "def train_rnn_model(max_features,\n",
        "                    maxlen,\n",
        "                    word_embedding_dim,\n",
        "                    rnn_hidden_dim,\n",
        "                    batch_size, epochs,\n",
        "                    learning_rate):\n",
        "\n",
        "  # Load IMDB dataset\n",
        "  (x_train, y_train), (x_test, y_test) = imdb.load_data(num_words=max_features)\n",
        "  print('Train sequences:', len(x_train))\n",
        "  print('Test sequences:', len(x_test))\n",
        "\n",
        "  # Pad Sequences\n",
        "  x_train = sequence.pad_sequences(x_train, maxlen=maxlen)\n",
        "  x_test = sequence.pad_sequences(x_test, maxlen=maxlen)\n",
        "  print('\\nx_train shape:', x_train.shape)\n",
        "  print('x_test shape:', x_test.shape)\n",
        "  print('\\n')\n",
        "\n",
        "  # Define Model\n",
        "  model_rnn = Sequential()\n",
        "  model_rnn.add(Embedding(max_features, word_embedding_dim))\n",
        "  model_rnn.add(SimpleRNN(rnn_hidden_dim,\n",
        "                          kernel_initializer=initializers.RandomNormal(stddev=0.001),\n",
        "                          recurrent_initializer=initializers.Identity(gain=1.0),\n",
        "                          activation='relu',\n",
        "                          input_shape=x_train.shape[1:]))\n",
        "  model_rnn.add(Dense(1, activation='sigmoid'))\n",
        "\n",
        "  # Compile\n",
        "  rmsprop = keras.optimizers.RMSprop(learning_rate = learning_rate)\n",
        "\n",
        "  model_rnn.compile(loss='binary_crossentropy',\n",
        "                    optimizer=rmsprop,\n",
        "                    metrics=['accuracy'])\n",
        "\n",
        "  # Train\n",
        "  model_rnn.fit(x_train, y_train,\n",
        "                batch_size=batch_size,\n",
        "                epochs=epochs,\n",
        "                validation_data=(x_test, y_test))\n",
        "  print('\\n')\n",
        "\n",
        "  # Evaluate\n",
        "  score, acc = model_rnn.evaluate(x_test, y_test,\n",
        "                            batch_size=batch_size)\n",
        "  print('\\n\\nTest score:', score)\n",
        "  print('Test accuracy:', acc)"
      ],
      "metadata": {
        "id": "Xh88VvLCGfTy"
      },
      "id": "Xh88VvLCGfTy",
      "execution_count": null,
      "outputs": []
    },
    {
      "cell_type": "markdown",
      "id": "planned-detection",
      "metadata": {
        "id": "planned-detection"
      },
      "source": [
        "## Supplementary Activity"
      ]
    },
    {
      "cell_type": "markdown",
      "id": "industrial-frequency",
      "metadata": {
        "id": "industrial-frequency"
      },
      "source": [
        "- Prepare the data to use sequences of length 80 rather than length 30.  Did it improve the performance?\n",
        "- Try different values of the \"max_features\".  Can you improve the performance?\n",
        "- Try smaller and larger sizes of the RNN hidden dimension.  How does it affect the model performance?  How does it affect the run time?"
      ]
    },
    {
      "cell_type": "code",
      "execution_count": null,
      "id": "important-delight",
      "metadata": {
        "id": "important-delight",
        "colab": {
          "base_uri": "https://localhost:8080/"
        },
        "outputId": "b7f8cbd8-2c7e-4028-8793-9842fbdd4972"
      },
      "outputs": [
        {
          "output_type": "stream",
          "name": "stdout",
          "text": [
            "Train sequences: 25000\n",
            "Test sequences: 25000\n",
            "\n",
            "x_train shape: (25000, 80)\n",
            "x_test shape: (25000, 80)\n",
            "\n",
            "\n",
            "Epoch 1/10\n",
            "782/782 [==============================] - 22s 27ms/step - loss: 0.6449 - accuracy: 0.6105 - val_loss: 0.5674 - val_accuracy: 0.7112\n",
            "Epoch 2/10\n",
            "782/782 [==============================] - 21s 27ms/step - loss: 0.5014 - accuracy: 0.7612 - val_loss: 0.5099 - val_accuracy: 0.7652\n",
            "Epoch 3/10\n",
            "782/782 [==============================] - 19s 25ms/step - loss: 0.4253 - accuracy: 0.8083 - val_loss: 0.4533 - val_accuracy: 0.7965\n",
            "Epoch 4/10\n",
            "782/782 [==============================] - 19s 25ms/step - loss: 0.3795 - accuracy: 0.8339 - val_loss: 0.4220 - val_accuracy: 0.8027\n",
            "Epoch 5/10\n",
            "782/782 [==============================] - 21s 26ms/step - loss: 0.3486 - accuracy: 0.8505 - val_loss: 0.4056 - val_accuracy: 0.8168\n",
            "Epoch 6/10\n",
            "782/782 [==============================] - 19s 24ms/step - loss: 0.3256 - accuracy: 0.8624 - val_loss: 0.4071 - val_accuracy: 0.8170\n",
            "Epoch 7/10\n",
            "782/782 [==============================] - 19s 24ms/step - loss: 0.3081 - accuracy: 0.8713 - val_loss: 0.4078 - val_accuracy: 0.8146\n",
            "Epoch 8/10\n",
            "782/782 [==============================] - 20s 25ms/step - loss: 0.2930 - accuracy: 0.8777 - val_loss: 0.3950 - val_accuracy: 0.8233\n",
            "Epoch 9/10\n",
            "782/782 [==============================] - 19s 24ms/step - loss: 0.2795 - accuracy: 0.8847 - val_loss: 0.3799 - val_accuracy: 0.8299\n",
            "Epoch 10/10\n",
            "782/782 [==============================] - 20s 26ms/step - loss: 0.2679 - accuracy: 0.8909 - val_loss: 0.3881 - val_accuracy: 0.8258\n",
            "\n",
            "\n",
            "782/782 [==============================] - 3s 4ms/step - loss: 0.3881 - accuracy: 0.8258\n",
            "\n",
            "\n",
            "Test score: 0.38807493448257446\n",
            "Test accuracy: 0.8258399963378906\n"
          ]
        }
      ],
      "source": [
        "# Prepare the data to use sequences of length 80 rather than length 30\n",
        "\n",
        "train_rnn_model(max_features=20000,\n",
        "                maxlen=80, #Use sequence length 80\n",
        "                word_embedding_dim=50,\n",
        "                rnn_hidden_dim=5,\n",
        "                batch_size=32,\n",
        "                epochs=10,\n",
        "                learning_rate=.0001,)"
      ]
    },
    {
      "cell_type": "markdown",
      "source": [
        "**Did it improve the performance?**\n",
        "\n",
        "*Based on the previous and the current result of the model. It shows that when the sequences increase to 80 from 30 it improve the model a little bit. From 78% to 82% accuracy after that. It is because the model recieves more context information. The more the context the more that can help the model to understand.*"
      ],
      "metadata": {
        "id": "6mdnupDr_kU3"
      },
      "id": "6mdnupDr_kU3"
    },
    {
      "cell_type": "code",
      "source": [
        "# Try different values of the max_features\n",
        "\n",
        "train_rnn_model(max_features=5000, # Different value of max_features (Lower)\n",
        "                maxlen=30,\n",
        "                word_embedding_dim=50,\n",
        "                rnn_hidden_dim=5,\n",
        "                batch_size=32,\n",
        "                epochs=10,\n",
        "                learning_rate=.0001,)"
      ],
      "metadata": {
        "colab": {
          "base_uri": "https://localhost:8080/"
        },
        "id": "usavJ9eaBqD6",
        "outputId": "8b2b2808-694a-4066-bef2-91e39259a964"
      },
      "id": "usavJ9eaBqD6",
      "execution_count": null,
      "outputs": [
        {
          "output_type": "stream",
          "name": "stdout",
          "text": [
            "Train sequences: 25000\n",
            "Test sequences: 25000\n",
            "\n",
            "x_train shape: (25000, 30)\n",
            "x_test shape: (25000, 30)\n",
            "\n",
            "\n",
            "Epoch 1/10\n",
            "782/782 [==============================] - 9s 10ms/step - loss: 0.6771 - accuracy: 0.5905 - val_loss: 0.6361 - val_accuracy: 0.6580\n",
            "Epoch 2/10\n",
            "782/782 [==============================] - 9s 12ms/step - loss: 0.5903 - accuracy: 0.6880 - val_loss: 0.5638 - val_accuracy: 0.7077\n",
            "Epoch 3/10\n",
            "782/782 [==============================] - 9s 11ms/step - loss: 0.5275 - accuracy: 0.7383 - val_loss: 0.5292 - val_accuracy: 0.7322\n",
            "Epoch 4/10\n",
            "782/782 [==============================] - 9s 11ms/step - loss: 0.4876 - accuracy: 0.7658 - val_loss: 0.5036 - val_accuracy: 0.7462\n",
            "Epoch 5/10\n",
            "782/782 [==============================] - 9s 11ms/step - loss: 0.4592 - accuracy: 0.7867 - val_loss: 0.4881 - val_accuracy: 0.7574\n",
            "Epoch 6/10\n",
            "782/782 [==============================] - 11s 13ms/step - loss: 0.4386 - accuracy: 0.7972 - val_loss: 0.4731 - val_accuracy: 0.7679\n",
            "Epoch 7/10\n",
            "782/782 [==============================] - 7s 9ms/step - loss: 0.4237 - accuracy: 0.8055 - val_loss: 0.4650 - val_accuracy: 0.7743\n",
            "Epoch 8/10\n",
            "782/782 [==============================] - 9s 11ms/step - loss: 0.4125 - accuracy: 0.8114 - val_loss: 0.4638 - val_accuracy: 0.7761\n",
            "Epoch 9/10\n",
            "782/782 [==============================] - 8s 10ms/step - loss: 0.4039 - accuracy: 0.8154 - val_loss: 0.4535 - val_accuracy: 0.7816\n",
            "Epoch 10/10\n",
            "782/782 [==============================] - 9s 12ms/step - loss: 0.3975 - accuracy: 0.8195 - val_loss: 0.4505 - val_accuracy: 0.7839\n",
            "\n",
            "\n",
            "782/782 [==============================] - 2s 2ms/step - loss: 0.4505 - accuracy: 0.7839\n",
            "\n",
            "\n",
            "Test score: 0.450499564409256\n",
            "Test accuracy: 0.7839199900627136\n"
          ]
        }
      ]
    },
    {
      "cell_type": "code",
      "source": [
        "train_rnn_model(max_features=50000, # Different value of max_features (Higher)\n",
        "                maxlen=30,\n",
        "                word_embedding_dim=50,\n",
        "                rnn_hidden_dim=5,\n",
        "                batch_size=32,\n",
        "                epochs=10,\n",
        "                learning_rate=.0001,)"
      ],
      "metadata": {
        "id": "bD3YoUVaKpiE",
        "colab": {
          "base_uri": "https://localhost:8080/"
        },
        "outputId": "8e005cac-1f29-4e54-91ca-1e0d19f35e77"
      },
      "id": "bD3YoUVaKpiE",
      "execution_count": null,
      "outputs": [
        {
          "output_type": "stream",
          "name": "stdout",
          "text": [
            "Train sequences: 25000\n",
            "Test sequences: 25000\n",
            "\n",
            "x_train shape: (25000, 30)\n",
            "x_test shape: (25000, 30)\n",
            "\n",
            "\n",
            "Epoch 1/10\n",
            "782/782 [==============================] - 19s 23ms/step - loss: 0.6881 - accuracy: 0.5328 - val_loss: 0.6677 - val_accuracy: 0.6177\n",
            "Epoch 2/10\n",
            "782/782 [==============================] - 17s 22ms/step - loss: 0.6129 - accuracy: 0.6746 - val_loss: 0.5764 - val_accuracy: 0.6988\n",
            "Epoch 3/10\n",
            "782/782 [==============================] - 18s 23ms/step - loss: 0.5330 - accuracy: 0.7351 - val_loss: 0.5335 - val_accuracy: 0.7265\n",
            "Epoch 4/10\n",
            "782/782 [==============================] - 18s 23ms/step - loss: 0.4842 - accuracy: 0.7688 - val_loss: 0.5055 - val_accuracy: 0.7461\n",
            "Epoch 5/10\n",
            "782/782 [==============================] - 23s 29ms/step - loss: 0.4488 - accuracy: 0.7919 - val_loss: 0.4870 - val_accuracy: 0.7603\n",
            "Epoch 6/10\n",
            "782/782 [==============================] - 19s 24ms/step - loss: 0.4226 - accuracy: 0.8078 - val_loss: 0.4759 - val_accuracy: 0.7656\n",
            "Epoch 7/10\n",
            "782/782 [==============================] - 19s 24ms/step - loss: 0.4025 - accuracy: 0.8187 - val_loss: 0.4669 - val_accuracy: 0.7720\n",
            "Epoch 8/10\n",
            "782/782 [==============================] - 18s 24ms/step - loss: 0.3867 - accuracy: 0.8262 - val_loss: 0.4663 - val_accuracy: 0.7739\n",
            "Epoch 9/10\n",
            "782/782 [==============================] - 19s 25ms/step - loss: 0.3746 - accuracy: 0.8334 - val_loss: 0.4593 - val_accuracy: 0.7777\n",
            "Epoch 10/10\n",
            "782/782 [==============================] - 19s 25ms/step - loss: 0.3647 - accuracy: 0.8404 - val_loss: 0.4599 - val_accuracy: 0.7790\n",
            "\n",
            "\n",
            "782/782 [==============================] - 3s 3ms/step - loss: 0.4599 - accuracy: 0.7790\n",
            "\n",
            "\n",
            "Test score: 0.4598880410194397\n",
            "Test accuracy: 0.7790399789810181\n"
          ]
        }
      ]
    },
    {
      "cell_type": "code",
      "source": [
        "train_rnn_model(max_features=1000, # Different value of max_features (Higher)\n",
        "                maxlen=1000,\n",
        "                word_embedding_dim=50,\n",
        "                rnn_hidden_dim=5,\n",
        "                batch_size=32,\n",
        "                epochs=10,\n",
        "                learning_rate=.0001,)"
      ],
      "metadata": {
        "colab": {
          "base_uri": "https://localhost:8080/"
        },
        "id": "sHUMGXJYBQsb",
        "outputId": "969290a3-e90d-4e0f-80e8-48ac54a911fc"
      },
      "id": "sHUMGXJYBQsb",
      "execution_count": null,
      "outputs": [
        {
          "output_type": "stream",
          "name": "stdout",
          "text": [
            "Train sequences: 25000\n",
            "Test sequences: 25000\n",
            "\n",
            "x_train shape: (25000, 1000)\n",
            "x_test shape: (25000, 1000)\n",
            "\n",
            "\n",
            "Epoch 1/10\n",
            "782/782 [==============================] - 233s 297ms/step - loss: 0.6749 - accuracy: 0.5977 - val_loss: 0.6449 - val_accuracy: 0.7049\n",
            "Epoch 2/10\n",
            "782/782 [==============================] - 231s 295ms/step - loss: 0.5858 - accuracy: 0.7790 - val_loss: 0.5581 - val_accuracy: 0.7996\n",
            "Epoch 3/10\n",
            "782/782 [==============================] - 231s 295ms/step - loss: 0.4984 - accuracy: 0.8219 - val_loss: 0.4615 - val_accuracy: 0.8378\n",
            "Epoch 4/10\n",
            "782/782 [==============================] - 231s 296ms/step - loss: 0.4231 - accuracy: 0.8464 - val_loss: 0.4027 - val_accuracy: 0.8492\n",
            "Epoch 5/10\n",
            "782/782 [==============================] - 232s 297ms/step - loss: 0.3704 - accuracy: 0.8598 - val_loss: 0.3543 - val_accuracy: 0.8615\n",
            "Epoch 6/10\n",
            "782/782 [==============================] - 230s 294ms/step - loss: 0.3391 - accuracy: 0.8674 - val_loss: 0.4269 - val_accuracy: 0.8009\n",
            "Epoch 7/10\n",
            "782/782 [==============================] - 229s 293ms/step - loss: 0.3227 - accuracy: 0.8732 - val_loss: 0.3278 - val_accuracy: 0.8662\n",
            "Epoch 8/10\n",
            "782/782 [==============================] - 231s 295ms/step - loss: 0.3138 - accuracy: 0.8739 - val_loss: 0.3283 - val_accuracy: 0.8633\n",
            "Epoch 9/10\n",
            "782/782 [==============================] - 231s 295ms/step - loss: 0.3070 - accuracy: 0.8762 - val_loss: 0.3132 - val_accuracy: 0.8712\n",
            "Epoch 10/10\n",
            "782/782 [==============================] - 230s 295ms/step - loss: 0.3025 - accuracy: 0.8772 - val_loss: 0.3109 - val_accuracy: 0.8706\n",
            "\n",
            "\n",
            "782/782 [==============================] - 33s 42ms/step - loss: 0.3109 - accuracy: 0.8706\n",
            "\n",
            "\n",
            "Test score: 0.3108755350112915\n",
            "Test accuracy: 0.8705599904060364\n"
          ]
        }
      ]
    },
    {
      "cell_type": "markdown",
      "source": [
        "**Can you improve the performance?**\n",
        "\n",
        "*Based on the result above with higher and lower value of max_features and with 30 sequence length. It shows that the performance of the model doesn't improve. By increasing or decreasing the max_feature it doesn't affect so much in the model.*\n",
        "\n",
        "*I can improve the model by lowering the max_features and adding more sequence length and the accuracy I obtain accuracy is 87% which is higher than the previous results.*"
      ],
      "metadata": {
        "id": "eFpyf8TnBw8d"
      },
      "id": "eFpyf8TnBw8d"
    },
    {
      "cell_type": "code",
      "source": [
        "# Try smaller and larger sized of RNN hidden dimension.\n",
        "\n",
        "train_rnn_model(max_features=20000,\n",
        "                maxlen=30,\n",
        "                word_embedding_dim=50,\n",
        "                rnn_hidden_dim=3, # Smaller size of RNN hidden dimension\n",
        "                batch_size=32,\n",
        "                epochs=10,\n",
        "                learning_rate=.0001,)"
      ],
      "metadata": {
        "id": "EshVGC8kB1b-",
        "colab": {
          "base_uri": "https://localhost:8080/"
        },
        "outputId": "2985c75c-42d8-4114-8b8b-a609e01c21d6"
      },
      "id": "EshVGC8kB1b-",
      "execution_count": null,
      "outputs": [
        {
          "output_type": "stream",
          "name": "stdout",
          "text": [
            "Train sequences: 25000\n",
            "Test sequences: 25000\n",
            "\n",
            "x_train shape: (25000, 30)\n",
            "x_test shape: (25000, 30)\n",
            "\n",
            "\n",
            "Epoch 1/10\n",
            "782/782 [==============================] - 13s 16ms/step - loss: 0.6849 - accuracy: 0.5869 - val_loss: 0.6591 - val_accuracy: 0.6532\n",
            "Epoch 2/10\n",
            "782/782 [==============================] - 10s 12ms/step - loss: 0.6129 - accuracy: 0.6764 - val_loss: 0.5812 - val_accuracy: 0.6948\n",
            "Epoch 3/10\n",
            "782/782 [==============================] - 9s 11ms/step - loss: 0.5430 - accuracy: 0.7276 - val_loss: 0.5407 - val_accuracy: 0.7231\n",
            "Epoch 4/10\n",
            "782/782 [==============================] - 10s 13ms/step - loss: 0.4977 - accuracy: 0.7583 - val_loss: 0.5230 - val_accuracy: 0.7331\n",
            "Epoch 5/10\n",
            "782/782 [==============================] - 10s 13ms/step - loss: 0.4645 - accuracy: 0.7811 - val_loss: 0.4986 - val_accuracy: 0.7521\n",
            "Epoch 6/10\n",
            "782/782 [==============================] - 10s 12ms/step - loss: 0.4392 - accuracy: 0.7963 - val_loss: 0.4864 - val_accuracy: 0.7594\n",
            "Epoch 7/10\n",
            "782/782 [==============================] - 9s 12ms/step - loss: 0.4199 - accuracy: 0.8077 - val_loss: 0.4763 - val_accuracy: 0.7656\n",
            "Epoch 8/10\n",
            "782/782 [==============================] - 11s 14ms/step - loss: 0.4039 - accuracy: 0.8181 - val_loss: 0.4672 - val_accuracy: 0.7718\n",
            "Epoch 9/10\n",
            "782/782 [==============================] - 10s 13ms/step - loss: 0.3917 - accuracy: 0.8234 - val_loss: 0.4623 - val_accuracy: 0.7751\n",
            "Epoch 10/10\n",
            "782/782 [==============================] - 9s 12ms/step - loss: 0.3815 - accuracy: 0.8297 - val_loss: 0.4595 - val_accuracy: 0.7777\n",
            "\n",
            "\n",
            "782/782 [==============================] - 3s 3ms/step - loss: 0.4595 - accuracy: 0.7777\n",
            "\n",
            "\n",
            "Test score: 0.4594658613204956\n",
            "Test accuracy: 0.777679979801178\n"
          ]
        }
      ]
    },
    {
      "cell_type": "code",
      "source": [
        "train_rnn_model(max_features=20000,\n",
        "                maxlen=30,\n",
        "                word_embedding_dim=50,\n",
        "                rnn_hidden_dim=15, # Larger size of RNN hidden dimension\n",
        "                batch_size=32,\n",
        "                epochs=10,\n",
        "                learning_rate=.0001,)"
      ],
      "metadata": {
        "id": "71CBbXJjB9o-",
        "colab": {
          "base_uri": "https://localhost:8080/"
        },
        "outputId": "b6aa54b6-fb45-47a3-969b-21869e879f3a"
      },
      "id": "71CBbXJjB9o-",
      "execution_count": null,
      "outputs": [
        {
          "output_type": "stream",
          "name": "stdout",
          "text": [
            "Train sequences: 25000\n",
            "Test sequences: 25000\n",
            "\n",
            "x_train shape: (25000, 30)\n",
            "x_test shape: (25000, 30)\n",
            "\n",
            "\n",
            "Epoch 1/10\n",
            "782/782 [==============================] - 13s 15ms/step - loss: 0.6608 - accuracy: 0.6019 - val_loss: 0.6170 - val_accuracy: 0.6554\n",
            "Epoch 2/10\n",
            "782/782 [==============================] - 11s 13ms/step - loss: 0.5652 - accuracy: 0.7076 - val_loss: 0.5457 - val_accuracy: 0.7144\n",
            "Epoch 3/10\n",
            "782/782 [==============================] - 10s 13ms/step - loss: 0.4971 - accuracy: 0.7605 - val_loss: 0.5078 - val_accuracy: 0.7465\n",
            "Epoch 4/10\n",
            "782/782 [==============================] - 10s 12ms/step - loss: 0.4518 - accuracy: 0.7896 - val_loss: 0.4815 - val_accuracy: 0.7634\n",
            "Epoch 5/10\n",
            "782/782 [==============================] - 10s 13ms/step - loss: 0.4213 - accuracy: 0.8071 - val_loss: 0.4676 - val_accuracy: 0.7734\n",
            "Epoch 6/10\n",
            "782/782 [==============================] - 11s 14ms/step - loss: 0.4007 - accuracy: 0.8191 - val_loss: 0.4606 - val_accuracy: 0.7794\n",
            "Epoch 7/10\n",
            "782/782 [==============================] - 10s 13ms/step - loss: 0.3862 - accuracy: 0.8281 - val_loss: 0.4519 - val_accuracy: 0.7842\n",
            "Epoch 8/10\n",
            "782/782 [==============================] - 10s 13ms/step - loss: 0.3740 - accuracy: 0.8335 - val_loss: 0.4543 - val_accuracy: 0.7851\n",
            "Epoch 9/10\n",
            "782/782 [==============================] - 11s 14ms/step - loss: 0.3650 - accuracy: 0.8394 - val_loss: 0.4546 - val_accuracy: 0.7883\n",
            "Epoch 10/10\n",
            "782/782 [==============================] - 10s 13ms/step - loss: 0.3579 - accuracy: 0.8426 - val_loss: 0.4483 - val_accuracy: 0.7890\n",
            "\n",
            "\n",
            "782/782 [==============================] - 2s 3ms/step - loss: 0.4483 - accuracy: 0.7890\n",
            "\n",
            "\n",
            "Test score: 0.4483156204223633\n",
            "Test accuracy: 0.7890400290489197\n"
          ]
        }
      ]
    },
    {
      "cell_type": "markdown",
      "source": [
        "**How does it affect the model performance? How does it affect the run time?**\n",
        "\n",
        "*Based on the results above, when I try to decrease the size of RNN hidden dimension the result is 77.77% accuracy which it is lower accuracy than the result in the procedure above, it shows that the lower the RNN hidden dimension it does not improve the performance of the model. When I try to increase the value of the RNN hidden dimension the result is almost same with the result in the procedure.*\n",
        "\n",
        "*When I experiment the value of the RNN hidden dimension, somehow it affects the performance of the model but a little bit. It affects the run time when the lower the RNN hidden dimension the faster the execution time while when it increases the run time execution becomes slower.*"
      ],
      "metadata": {
        "id": "byiJcq6_B-iP"
      },
      "id": "byiJcq6_B-iP"
    },
    {
      "cell_type": "markdown",
      "id": "signal-federal",
      "metadata": {
        "id": "signal-federal"
      },
      "source": [
        "## Conclusion\n"
      ]
    },
    {
      "cell_type": "markdown",
      "source": [
        "*In conclusion, this activity shows practical knowledge about the recurrent neural network. The recurrent neural network is commonly used in NLP, speech recognition, and image recognition. The RNN has a main feature, which is the **hidden dimension/state** This activity tackles the performance of the model when decreasing or increasing the hidden dimension of the RNN, and based on the result, the model doesn't improve a lot, but it does affect a little bit. The hidden dimension or state is referred to as the memory state because it remembers the previous input to the model.*\n",
        "\n",
        "*Overall, this activity shows how the different features can affect the performance of the model. For example, the maximum length of the input. Since the dataset used in this activity is the imdb, which is the movie reviews, which is commonly used in natural language processing, The higher the length inputted in the model, the more context of the text that is understood by the model and also the more accurate, which improves the performance of the model.*"
      ],
      "metadata": {
        "id": "IF6wSE4IMXGV"
      },
      "id": "IF6wSE4IMXGV"
    }
  ],
  "metadata": {
    "kernelspec": {
      "display_name": "Python 3",
      "language": "python",
      "name": "python3"
    },
    "language_info": {
      "codemirror_mode": {
        "name": "ipython",
        "version": 3
      },
      "file_extension": ".py",
      "mimetype": "text/x-python",
      "name": "python",
      "nbconvert_exporter": "python",
      "pygments_lexer": "ipython3",
      "version": "3.7.10"
    },
    "colab": {
      "provenance": [],
      "include_colab_link": true
    }
  },
  "nbformat": 4,
  "nbformat_minor": 5
}