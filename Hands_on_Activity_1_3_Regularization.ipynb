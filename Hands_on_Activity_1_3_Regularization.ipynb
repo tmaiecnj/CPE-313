{
  "cells": [
    {
      "cell_type": "markdown",
      "id": "frozen-passport",
      "metadata": {
        "id": "frozen-passport"
      },
      "source": [
        "# Activity 1.3 : Regularization"
      ]
    },
    {
      "cell_type": "markdown",
      "id": "downtown-relay",
      "metadata": {
        "id": "downtown-relay"
      },
      "source": [
        "## Objective(s):"
      ]
    },
    {
      "cell_type": "markdown",
      "id": "ZJFVyQA3HApx",
      "metadata": {
        "id": "ZJFVyQA3HApx"
      },
      "source": [
        "This activity aims to demonstrate how to apply  regularization in neural networks"
      ]
    },
    {
      "cell_type": "markdown",
      "id": "weird-journal",
      "metadata": {
        "id": "weird-journal"
      },
      "source": [
        "## Intended Learning Outcomes (ILOs):"
      ]
    },
    {
      "cell_type": "markdown",
      "id": "UxYp48I2HJZR",
      "metadata": {
        "id": "UxYp48I2HJZR"
      },
      "source": [
        "* Demonstrate how to build and train neural networks with regularization\n",
        "* Demonstrate how to visualize the model with regularization\n",
        "* Evaluate the result of model with regularization"
      ]
    },
    {
      "cell_type": "markdown",
      "id": "returning-harvard",
      "metadata": {
        "id": "returning-harvard"
      },
      "source": [
        "## Resources:"
      ]
    },
    {
      "cell_type": "markdown",
      "id": "EIr8pXMAHSft",
      "metadata": {
        "id": "EIr8pXMAHSft"
      },
      "source": [
        "* Jupyter Notebook\n",
        "* MNIST"
      ]
    },
    {
      "cell_type": "markdown",
      "id": "virgin-webcam",
      "metadata": {
        "id": "virgin-webcam"
      },
      "source": [
        "## Procedures\n"
      ]
    },
    {
      "cell_type": "markdown",
      "id": "z1EexpviHZue",
      "metadata": {
        "id": "z1EexpviHZue"
      },
      "source": [
        "Load the necessary libraries"
      ]
    },
    {
      "cell_type": "code",
      "execution_count": null,
      "id": "changing-emergency",
      "metadata": {
        "id": "changing-emergency"
      },
      "outputs": [],
      "source": [
        "from __future__ import print_function\n",
        "\n",
        "import keras\n",
        "from keras.datasets import mnist\n",
        "from keras.models import Sequential\n",
        "from keras.layers import Dense, Dropout\n",
        "from keras.optimizers import RMSprop\n",
        "\n",
        "import numpy as np\n",
        "import matplotlib.pyplot as plt\n",
        "%matplotlib inline"
      ]
    },
    {
      "cell_type": "markdown",
      "id": "central-drama",
      "metadata": {
        "id": "central-drama"
      },
      "source": [
        "Load the data, shuffled and split between train and test sets"
      ]
    },
    {
      "cell_type": "code",
      "execution_count": null,
      "id": "egyptian-driving",
      "metadata": {
        "colab": {
          "base_uri": "https://localhost:8080/"
        },
        "id": "egyptian-driving",
        "outputId": "0952f143-4a4e-49bf-9c03-36900f8b4b9e"
      },
      "outputs": [
        {
          "name": "stdout",
          "output_type": "stream",
          "text": [
            "Downloading data from https://storage.googleapis.com/tensorflow/tf-keras-datasets/mnist.npz\n",
            "11490434/11490434 [==============================] - 0s 0us/step\n"
          ]
        }
      ],
      "source": [
        "(x_train, y_train), (x_test, y_test) = mnist.load_data()"
      ]
    },
    {
      "cell_type": "markdown",
      "id": "creative-cricket",
      "metadata": {
        "id": "creative-cricket"
      },
      "source": [
        "Get the size of the sample train data"
      ]
    },
    {
      "cell_type": "code",
      "execution_count": null,
      "id": "instrumental-funds",
      "metadata": {
        "colab": {
          "base_uri": "https://localhost:8080/"
        },
        "id": "instrumental-funds",
        "outputId": "aaf89947-42ab-4776-fcfb-fcaefb37a34a"
      },
      "outputs": [
        {
          "data": {
            "text/plain": [
              "(28, 28)"
            ]
          },
          "execution_count": 3,
          "metadata": {},
          "output_type": "execute_result"
        }
      ],
      "source": [
        "x_train[0].shape"
      ]
    },
    {
      "cell_type": "markdown",
      "id": "atmospheric-carol",
      "metadata": {
        "id": "atmospheric-carol"
      },
      "source": [
        "Check the sample train data"
      ]
    },
    {
      "cell_type": "code",
      "execution_count": null,
      "id": "mental-johnston",
      "metadata": {
        "colab": {
          "base_uri": "https://localhost:8080/",
          "height": 66
        },
        "id": "mental-johnston",
        "outputId": "8a8ed17c-7a0e-4ee9-faaf-ede947d07cfc"
      },
      "outputs": [
        {
          "data": {
            "text/html": [
              "<style>\n",
              "      .ndarray_repr .ndarray_raw_data {\n",
              "        display: none;\n",
              "      }\n",
              "      .ndarray_repr.show_array .ndarray_raw_data {\n",
              "        display: block;\n",
              "      }\n",
              "      .ndarray_repr.show_array .ndarray_image_preview {\n",
              "        display: none;\n",
              "      }\n",
              "      </style>\n",
              "      <div id=\"id-09216343-4d7e-42e0-b50d-f58cd8baf07d\" class=\"ndarray_repr\"><pre>ndarray (28, 28) <button style=\"padding: 0 2px;\">show data</button></pre><img src=\"data:image/png;base64,iVBORw0KGgoAAAANSUhEUgAAABwAAAAcCAAAAABXZoBIAAABJElEQVR4nM2RO0sDURCFz/qIRE0lK6QTUQsfGEglWKnEQgvBIo0ggj9ARFCwVXTRXyAoiAgSrMRiEQQ7Cze2FnlgZbGxCISAi2dYiyyJufeWFk51mG/mMIcB/llZv3Q2PbTqTbz33npPvjq3LiQpJFlfUTYX7t72Inmcqs29Auhqwt1YolRuyOlU/0Cb6c4XZS3y/5DzWDsM5HEcAEZyUrtQ7zlk/XQYmCmwMquFSuaFvutKdXPSENm+LJD0Rw0IQN8Lye8jE4ovh5K/KYbidOtwm8FBErgnpzSWLvIZAMYeeNajQpe0AQDz5GDU62hhrwIA+Gx1mtCyGj/oXLSCULW9IgEAG2RWP6jK/Uxmyy0zl9CjXEd/PjEwxJeEJcexDeiP6wefW3R9pZ+EHwAAAABJRU5ErkJggg==\" class=\"ndarray_image_preview\" /><pre class=\"ndarray_raw_data\">array([[  0,   0,   0,   0,   0,   0,   0,   0,   0,   0,   0,   0,   0,\n",
              "          0,   0,   0,   0,   0,   0,   0,   0,   0,   0,   0,   0,   0,\n",
              "          0,   0],\n",
              "       [  0,   0,   0,   0,   0,   0,   0,   0,   0,   0,   0,   0,   0,\n",
              "          0,   0,   0,   0,   0,   0,   0,   0,   0,   0,   0,   0,   0,\n",
              "          0,   0],\n",
              "       [  0,   0,   0,   0,   0,   0,   0,   0,   0,   0,   0,   0,   0,\n",
              "          0,   0,   0,   0,   0,   0,   0,   0,   0,   0,   0,   0,   0,\n",
              "          0,   0],\n",
              "       [  0,   0,   0,   0,   0,   0,   0,   0,   0,   0,   0,   0,   0,\n",
              "          0,   0,   0,   0,   0,   0,   0,   0,   0,   0,   0,   0,   0,\n",
              "          0,   0],\n",
              "       [  0,   0,   0,   0,   0,   0,   0,   0,   0,   0,   0,   0,   0,\n",
              "          0,   0,   0,   0,   0,   0,   0,   0,   0,   0,   0,   0,   0,\n",
              "          0,   0],\n",
              "       [  0,   0,   0,   0,   0,   0,   0,   0,   0,   0,   0,  87, 138,\n",
              "        170, 253, 201, 244, 212, 222, 138,  86,  22,   0,   0,   0,   0,\n",
              "          0,   0],\n",
              "       [  0,   0,   0,   0,   0,   0,   0,   0,   0,   0,  95, 253, 252,\n",
              "        252, 252, 252, 253, 252, 252, 252, 252, 245,  80,   0,   0,   0,\n",
              "          0,   0],\n",
              "       [  0,   0,   0,   0,   0,   0,   0,   0,   0,  68, 246, 205,  69,\n",
              "         69,  69,  69,  69,  69,  69,  69, 205, 253, 240,  50,   0,   0,\n",
              "          0,   0],\n",
              "       [  0,   0,   0,   0,   0,   0,   0,   0,   0, 187, 252, 218,  34,\n",
              "          0,   0,   0,   0,   0,   0,   0, 116, 253, 252,  69,   0,   0,\n",
              "          0,   0],\n",
              "       [  0,   0,   0,   0,   0,   0,   0,   0, 116, 248, 252, 253,  92,\n",
              "          0,   0,   0,   0,   0,   0,  95, 230, 253, 157,   6,   0,   0,\n",
              "          0,   0],\n",
              "       [  0,   0,   0,   0,   0,   0,   0,   0, 116, 249, 253, 189,  42,\n",
              "          0,   0,   0,   0,  36, 170, 253, 243, 158,   0,   0,   0,   0,\n",
              "          0,   0],\n",
              "       [  0,   0,   0,   0,   0,   0,   0,   0,   0, 133, 252, 245, 140,\n",
              "         34,   0,   0,  57, 219, 252, 235,  60,   0,   0,   0,   0,   0,\n",
              "          0,   0],\n",
              "       [  0,   0,   0,   0,   0,   0,   0,   0,   0,  25, 205, 253, 252,\n",
              "        234, 184, 184, 253, 240, 100,  44,   0,   0,   0,   0,   0,   0,\n",
              "          0,   0],\n",
              "       [  0,   0,   0,   0,   0,   0,   0,   0,   0,   0,  21, 161, 219,\n",
              "        252, 252, 252, 234,  37,   0,   0,   0,   0,   0,   0,   0,   0,\n",
              "          0,   0],\n",
              "       [  0,   0,   0,   0,   0,   0,   0,   0,   0,   0,   0,  11, 203,\n",
              "        252, 252, 252, 251, 135,   0,   0,   0,   0,   0,   0,   0,   0,\n",
              "          0,   0],\n",
              "       [  0,   0,   0,   0,   0,   0,   0,   0,   0,   9,  76, 255, 253,\n",
              "        205, 168, 220, 255, 253, 137,   5,   0,   0,   0,   0,   0,   0,\n",
              "          0,   0],\n",
              "       [  0,   0,   0,   0,   0,   0,   0,   0,   0, 114, 252, 249, 132,\n",
              "         25,   0,   0, 180, 252, 252,  45,   0,   0,   0,   0,   0,   0,\n",
              "          0,   0],\n",
              "       [  0,   0,   0,   0,   0,   0,   0,   0,  51, 220, 252, 199,   0,\n",
              "          0,   0,   0,  38, 186, 252, 154,   7,   0,   0,   0,   0,   0,\n",
              "          0,   0],\n",
              "       [  0,   0,   0,   0,   0,   0,   0,   0, 184, 252, 252,  21,   0,\n",
              "          0,   0,   0,   0,  67, 252, 252,  22,   0,   0,   0,   0,   0,\n",
              "          0,   0],\n",
              "       [  0,   0,   0,   0,   0,   0,   0,   0, 184, 252, 200,   0,   0,\n",
              "          0,   0,   0,   0,  47, 252, 252,  22,   0,   0,   0,   0,   0,\n",
              "          0,   0],\n",
              "       [  0,   0,   0,   0,   0,   0,   0,   0, 185, 253, 201,   0,   0,\n",
              "          0,   0,   0,   3, 118, 253, 245,  21,   0,   0,   0,   0,   0,\n",
              "          0,   0],\n",
              "       [  0,   0,   0,   0,   0,   0,   0,   0, 163, 252, 252,   0,   0,\n",
              "          0,   0,   0,  97, 252, 252,  87,   0,   0,   0,   0,   0,   0,\n",
              "          0,   0],\n",
              "       [  0,   0,   0,   0,   0,   0,   0,   0,  51, 240, 252, 123,  70,\n",
              "         70, 112, 184, 222, 252, 170,  13,   0,   0,   0,   0,   0,   0,\n",
              "          0,   0],\n",
              "       [  0,   0,   0,   0,   0,   0,   0,   0,   0, 165, 252, 253, 252,\n",
              "        252, 252, 252, 245, 139,  13,   0,   0,   0,   0,   0,   0,   0,\n",
              "          0,   0],\n",
              "       [  0,   0,   0,   0,   0,   0,   0,   0,   0,   9,  75, 253, 252,\n",
              "        221, 137, 137,  21,   0,   0,   0,   0,   0,   0,   0,   0,   0,\n",
              "          0,   0],\n",
              "       [  0,   0,   0,   0,   0,   0,   0,   0,   0,   0,   0,   0,   0,\n",
              "          0,   0,   0,   0,   0,   0,   0,   0,   0,   0,   0,   0,   0,\n",
              "          0,   0],\n",
              "       [  0,   0,   0,   0,   0,   0,   0,   0,   0,   0,   0,   0,   0,\n",
              "          0,   0,   0,   0,   0,   0,   0,   0,   0,   0,   0,   0,   0,\n",
              "          0,   0],\n",
              "       [  0,   0,   0,   0,   0,   0,   0,   0,   0,   0,   0,   0,   0,\n",
              "          0,   0,   0,   0,   0,   0,   0,   0,   0,   0,   0,   0,   0,\n",
              "          0,   0]], dtype=uint8)</pre></div><script>\n",
              "      (() => {\n",
              "      const titles = ['show data', 'hide data'];\n",
              "      let index = 0\n",
              "      document.querySelector('#id-09216343-4d7e-42e0-b50d-f58cd8baf07d button').onclick = (e) => {\n",
              "        document.querySelector('#id-09216343-4d7e-42e0-b50d-f58cd8baf07d').classList.toggle('show_array');\n",
              "        index = (++index) % 2;\n",
              "        document.querySelector('#id-09216343-4d7e-42e0-b50d-f58cd8baf07d button').textContent = titles[index];\n",
              "        e.preventDefault();\n",
              "        e.stopPropagation();\n",
              "      }\n",
              "      })();\n",
              "    </script>"
            ],
            "text/plain": [
              "array([[  0,   0,   0,   0,   0,   0,   0,   0,   0,   0,   0,   0,   0,\n",
              "          0,   0,   0,   0,   0,   0,   0,   0,   0,   0,   0,   0,   0,\n",
              "          0,   0],\n",
              "       [  0,   0,   0,   0,   0,   0,   0,   0,   0,   0,   0,   0,   0,\n",
              "          0,   0,   0,   0,   0,   0,   0,   0,   0,   0,   0,   0,   0,\n",
              "          0,   0],\n",
              "       [  0,   0,   0,   0,   0,   0,   0,   0,   0,   0,   0,   0,   0,\n",
              "          0,   0,   0,   0,   0,   0,   0,   0,   0,   0,   0,   0,   0,\n",
              "          0,   0],\n",
              "       [  0,   0,   0,   0,   0,   0,   0,   0,   0,   0,   0,   0,   0,\n",
              "          0,   0,   0,   0,   0,   0,   0,   0,   0,   0,   0,   0,   0,\n",
              "          0,   0],\n",
              "       [  0,   0,   0,   0,   0,   0,   0,   0,   0,   0,   0,   0,   0,\n",
              "          0,   0,   0,   0,   0,   0,   0,   0,   0,   0,   0,   0,   0,\n",
              "          0,   0],\n",
              "       [  0,   0,   0,   0,   0,   0,   0,   0,   0,   0,   0,  87, 138,\n",
              "        170, 253, 201, 244, 212, 222, 138,  86,  22,   0,   0,   0,   0,\n",
              "          0,   0],\n",
              "       [  0,   0,   0,   0,   0,   0,   0,   0,   0,   0,  95, 253, 252,\n",
              "        252, 252, 252, 253, 252, 252, 252, 252, 245,  80,   0,   0,   0,\n",
              "          0,   0],\n",
              "       [  0,   0,   0,   0,   0,   0,   0,   0,   0,  68, 246, 205,  69,\n",
              "         69,  69,  69,  69,  69,  69,  69, 205, 253, 240,  50,   0,   0,\n",
              "          0,   0],\n",
              "       [  0,   0,   0,   0,   0,   0,   0,   0,   0, 187, 252, 218,  34,\n",
              "          0,   0,   0,   0,   0,   0,   0, 116, 253, 252,  69,   0,   0,\n",
              "          0,   0],\n",
              "       [  0,   0,   0,   0,   0,   0,   0,   0, 116, 248, 252, 253,  92,\n",
              "          0,   0,   0,   0,   0,   0,  95, 230, 253, 157,   6,   0,   0,\n",
              "          0,   0],\n",
              "       [  0,   0,   0,   0,   0,   0,   0,   0, 116, 249, 253, 189,  42,\n",
              "          0,   0,   0,   0,  36, 170, 253, 243, 158,   0,   0,   0,   0,\n",
              "          0,   0],\n",
              "       [  0,   0,   0,   0,   0,   0,   0,   0,   0, 133, 252, 245, 140,\n",
              "         34,   0,   0,  57, 219, 252, 235,  60,   0,   0,   0,   0,   0,\n",
              "          0,   0],\n",
              "       [  0,   0,   0,   0,   0,   0,   0,   0,   0,  25, 205, 253, 252,\n",
              "        234, 184, 184, 253, 240, 100,  44,   0,   0,   0,   0,   0,   0,\n",
              "          0,   0],\n",
              "       [  0,   0,   0,   0,   0,   0,   0,   0,   0,   0,  21, 161, 219,\n",
              "        252, 252, 252, 234,  37,   0,   0,   0,   0,   0,   0,   0,   0,\n",
              "          0,   0],\n",
              "       [  0,   0,   0,   0,   0,   0,   0,   0,   0,   0,   0,  11, 203,\n",
              "        252, 252, 252, 251, 135,   0,   0,   0,   0,   0,   0,   0,   0,\n",
              "          0,   0],\n",
              "       [  0,   0,   0,   0,   0,   0,   0,   0,   0,   9,  76, 255, 253,\n",
              "        205, 168, 220, 255, 253, 137,   5,   0,   0,   0,   0,   0,   0,\n",
              "          0,   0],\n",
              "       [  0,   0,   0,   0,   0,   0,   0,   0,   0, 114, 252, 249, 132,\n",
              "         25,   0,   0, 180, 252, 252,  45,   0,   0,   0,   0,   0,   0,\n",
              "          0,   0],\n",
              "       [  0,   0,   0,   0,   0,   0,   0,   0,  51, 220, 252, 199,   0,\n",
              "          0,   0,   0,  38, 186, 252, 154,   7,   0,   0,   0,   0,   0,\n",
              "          0,   0],\n",
              "       [  0,   0,   0,   0,   0,   0,   0,   0, 184, 252, 252,  21,   0,\n",
              "          0,   0,   0,   0,  67, 252, 252,  22,   0,   0,   0,   0,   0,\n",
              "          0,   0],\n",
              "       [  0,   0,   0,   0,   0,   0,   0,   0, 184, 252, 200,   0,   0,\n",
              "          0,   0,   0,   0,  47, 252, 252,  22,   0,   0,   0,   0,   0,\n",
              "          0,   0],\n",
              "       [  0,   0,   0,   0,   0,   0,   0,   0, 185, 253, 201,   0,   0,\n",
              "          0,   0,   0,   3, 118, 253, 245,  21,   0,   0,   0,   0,   0,\n",
              "          0,   0],\n",
              "       [  0,   0,   0,   0,   0,   0,   0,   0, 163, 252, 252,   0,   0,\n",
              "          0,   0,   0,  97, 252, 252,  87,   0,   0,   0,   0,   0,   0,\n",
              "          0,   0],\n",
              "       [  0,   0,   0,   0,   0,   0,   0,   0,  51, 240, 252, 123,  70,\n",
              "         70, 112, 184, 222, 252, 170,  13,   0,   0,   0,   0,   0,   0,\n",
              "          0,   0],\n",
              "       [  0,   0,   0,   0,   0,   0,   0,   0,   0, 165, 252, 253, 252,\n",
              "        252, 252, 252, 245, 139,  13,   0,   0,   0,   0,   0,   0,   0,\n",
              "          0,   0],\n",
              "       [  0,   0,   0,   0,   0,   0,   0,   0,   0,   9,  75, 253, 252,\n",
              "        221, 137, 137,  21,   0,   0,   0,   0,   0,   0,   0,   0,   0,\n",
              "          0,   0],\n",
              "       [  0,   0,   0,   0,   0,   0,   0,   0,   0,   0,   0,   0,   0,\n",
              "          0,   0,   0,   0,   0,   0,   0,   0,   0,   0,   0,   0,   0,\n",
              "          0,   0],\n",
              "       [  0,   0,   0,   0,   0,   0,   0,   0,   0,   0,   0,   0,   0,\n",
              "          0,   0,   0,   0,   0,   0,   0,   0,   0,   0,   0,   0,   0,\n",
              "          0,   0],\n",
              "       [  0,   0,   0,   0,   0,   0,   0,   0,   0,   0,   0,   0,   0,\n",
              "          0,   0,   0,   0,   0,   0,   0,   0,   0,   0,   0,   0,   0,\n",
              "          0,   0]], dtype=uint8)"
            ]
          },
          "execution_count": 4,
          "metadata": {},
          "output_type": "execute_result"
        }
      ],
      "source": [
        "x_train[333]"
      ]
    },
    {
      "cell_type": "markdown",
      "id": "compact-disposal",
      "metadata": {
        "id": "compact-disposal"
      },
      "source": [
        "Check the corresponding label in the training set"
      ]
    },
    {
      "cell_type": "code",
      "execution_count": null,
      "id": "cutting-gentleman",
      "metadata": {
        "colab": {
          "base_uri": "https://localhost:8080/"
        },
        "id": "cutting-gentleman",
        "outputId": "600cddee-f0f0-4edd-c547-c2eacdf75e68"
      },
      "outputs": [
        {
          "data": {
            "text/plain": [
              "8"
            ]
          },
          "execution_count": 5,
          "metadata": {},
          "output_type": "execute_result"
        }
      ],
      "source": [
        "y_train[333]"
      ]
    },
    {
      "cell_type": "code",
      "execution_count": null,
      "id": "tight-motivation",
      "metadata": {
        "colab": {
          "base_uri": "https://localhost:8080/",
          "height": 447
        },
        "id": "tight-motivation",
        "outputId": "13da5ec7-d5c4-467f-8995-e1f2f49bac72"
      },
      "outputs": [
        {
          "data": {
            "text/plain": [
              "<matplotlib.image.AxesImage at 0x7d5f6c874820>"
            ]
          },
          "execution_count": 6,
          "metadata": {},
          "output_type": "execute_result"
        },
        {
          "data": {
            "image/png": "[encoded data removed]",
            "text/plain": [
              "<Figure size 640x480 with 1 Axes>"
            ]
          },
          "metadata": {},
          "output_type": "display_data"
        }
      ],
      "source": [
        "#Check the actual image\n",
        "plt.imshow(x_train[333], cmap='Greys_r')"
      ]
    },
    {
      "cell_type": "markdown",
      "id": "brutal-young",
      "metadata": {
        "id": "brutal-young"
      },
      "source": [
        "Check the shape of the x_train and x_test"
      ]
    },
    {
      "cell_type": "code",
      "execution_count": null,
      "id": "residential-rouge",
      "metadata": {
        "colab": {
          "base_uri": "https://localhost:8080/"
        },
        "id": "residential-rouge",
        "outputId": "c1a3f750-ba86-422c-bfed-82ee4393e9ba"
      },
      "outputs": [
        {
          "name": "stdout",
          "output_type": "stream",
          "text": [
            "(60000, 28, 28) train samples\n",
            "(10000, 28, 28) test samples\n"
          ]
        }
      ],
      "source": [
        "print(x_train.shape, 'train samples')\n",
        "print(x_test.shape, 'test samples')"
      ]
    },
    {
      "cell_type": "markdown",
      "id": "secret-parameter",
      "metadata": {
        "id": "secret-parameter"
      },
      "source": [
        "* Convert the x_train and x_test\n",
        "* Cast the numbers to floats\n",
        "* Normalize the inputs"
      ]
    },
    {
      "cell_type": "code",
      "execution_count": null,
      "id": "intense-daisy",
      "metadata": {
        "id": "intense-daisy"
      },
      "outputs": [],
      "source": [
        "x_train = x_train.reshape(len(x_train), 28*28)\n",
        "x_test = x_test.reshape(len(x_test), 28*28)\n",
        "\n",
        "x_train = x_train.astype('float32')\n",
        "x_test = x_test.astype('float32')\n",
        "\n",
        "x_train /= 255\n",
        "x_test /= 255"
      ]
    },
    {
      "cell_type": "markdown",
      "id": "celtic-output",
      "metadata": {
        "id": "celtic-output"
      },
      "source": [
        "Convert class vectors to binary class matrices"
      ]
    },
    {
      "cell_type": "code",
      "execution_count": null,
      "id": "confidential-incentive",
      "metadata": {
        "colab": {
          "base_uri": "https://localhost:8080/"
        },
        "id": "confidential-incentive",
        "outputId": "a8c58ca1-4d3c-472d-9079-ac26077c9ea6"
      },
      "outputs": [
        {
          "data": {
            "text/plain": [
              "array([0., 0., 0., 0., 0., 0., 0., 0., 1., 0.], dtype=float32)"
            ]
          },
          "execution_count": 9,
          "metadata": {},
          "output_type": "execute_result"
        }
      ],
      "source": [
        "\n",
        "num_classes = 10\n",
        "y_train = keras.utils.to_categorical(y_train, num_classes)\n",
        "y_test = keras.utils.to_categorical(y_test, num_classes)\n",
        "\n",
        "y_train[333]  # now the digit k is represented by a 1 in the kth entry (0-indexed) of the length 10 vector"
      ]
    },
    {
      "cell_type": "markdown",
      "id": "lightweight-walter",
      "metadata": {
        "id": "lightweight-walter"
      },
      "source": [
        "* Build the model with two hidden layers of size 512.\n",
        "* Use dropout of 0.2\n",
        "* Check the model summary"
      ]
    },
    {
      "cell_type": "code",
      "execution_count": null,
      "id": "level-blair",
      "metadata": {
        "id": "level-blair"
      },
      "outputs": [],
      "source": [
        "model = Sequential()\n",
        "model.add(Dense(64, activation='relu', input_shape=(784,)))\n",
        "model.add(Dropout(0.2))\n",
        "model.add(Dense(64, activation='relu'))\n",
        "model.add(Dropout(0.2))\n",
        "model.add(Dense(10, activation='softmax'))"
      ]
    },
    {
      "cell_type": "code",
      "execution_count": null,
      "id": "filled-class",
      "metadata": {
        "colab": {
          "base_uri": "https://localhost:8080/"
        },
        "id": "filled-class",
        "outputId": "56a2a748-78a6-4d18-f23e-30e18806459e"
      },
      "outputs": [
        {
          "name": "stdout",
          "output_type": "stream",
          "text": [
            "Model: \"sequential\"\n",
            "_________________________________________________________________\n",
            " Layer (type)                Output Shape              Param #   \n",
            "=================================================================\n",
            " dense (Dense)               (None, 64)                50240     \n",
            "                                                                 \n",
            " dropout (Dropout)           (None, 64)                0         \n",
            "                                                                 \n",
            " dense_1 (Dense)             (None, 64)                4160      \n",
            "                                                                 \n",
            " dropout_1 (Dropout)         (None, 64)                0         \n",
            "                                                                 \n",
            " dense_2 (Dense)             (None, 10)                650       \n",
            "                                                                 \n",
            "=================================================================\n",
            "Total params: 55050 (215.04 KB)\n",
            "Trainable params: 55050 (215.04 KB)\n",
            "Non-trainable params: 0 (0.00 Byte)\n",
            "_________________________________________________________________\n"
          ]
        }
      ],
      "source": [
        "model.summary()"
      ]
    },
    {
      "cell_type": "markdown",
      "id": "thrown-entry",
      "metadata": {
        "id": "thrown-entry"
      },
      "source": [
        "Compile the model using learning rate of 0.001 and optimizer of RMSprop"
      ]
    },
    {
      "cell_type": "code",
      "execution_count": null,
      "id": "oriental-family",
      "metadata": {
        "colab": {
          "base_uri": "https://localhost:8080/"
        },
        "id": "oriental-family",
        "outputId": "ee71871a-6d91-4e71-a354-ad20d6c9b8e4"
      },
      "outputs": [
        {
          "name": "stderr",
          "output_type": "stream",
          "text": [
            "WARNING:absl:`lr` is deprecated in Keras optimizer, please use `learning_rate` or use the legacy optimizer, e.g.,tf.keras.optimizers.legacy.RMSprop.\n"
          ]
        },
        {
          "name": "stdout",
          "output_type": "stream",
          "text": [
            "Epoch 1/30\n",
            "469/469 [==============================] - 3s 5ms/step - loss: 0.5088 - accuracy: 0.8476 - val_loss: 0.2097 - val_accuracy: 0.9337\n",
            "Epoch 2/30\n",
            "469/469 [==============================] - 2s 5ms/step - loss: 0.2546 - accuracy: 0.9248 - val_loss: 0.1558 - val_accuracy: 0.9527\n",
            "Epoch 3/30\n",
            "469/469 [==============================] - 5s 11ms/step - loss: 0.2037 - accuracy: 0.9398 - val_loss: 0.1266 - val_accuracy: 0.9608\n",
            "Epoch 4/30\n",
            "469/469 [==============================] - 3s 7ms/step - loss: 0.1743 - accuracy: 0.9481 - val_loss: 0.1161 - val_accuracy: 0.9637\n",
            "Epoch 5/30\n",
            "469/469 [==============================] - 4s 9ms/step - loss: 0.1556 - accuracy: 0.9530 - val_loss: 0.1086 - val_accuracy: 0.9662\n",
            "Epoch 6/30\n",
            "469/469 [==============================] - 5s 11ms/step - loss: 0.1451 - accuracy: 0.9560 - val_loss: 0.0986 - val_accuracy: 0.9718\n",
            "Epoch 7/30\n",
            "469/469 [==============================] - 5s 10ms/step - loss: 0.1315 - accuracy: 0.9605 - val_loss: 0.1005 - val_accuracy: 0.9700\n",
            "Epoch 8/30\n",
            "469/469 [==============================] - 4s 8ms/step - loss: 0.1260 - accuracy: 0.9620 - val_loss: 0.1000 - val_accuracy: 0.9707\n",
            "Epoch 9/30\n",
            "469/469 [==============================] - 5s 10ms/step - loss: 0.1203 - accuracy: 0.9639 - val_loss: 0.0904 - val_accuracy: 0.9734\n",
            "Epoch 10/30\n",
            "469/469 [==============================] - 4s 8ms/step - loss: 0.1151 - accuracy: 0.9660 - val_loss: 0.0890 - val_accuracy: 0.9741\n",
            "Epoch 11/30\n",
            "469/469 [==============================] - 2s 5ms/step - loss: 0.1128 - accuracy: 0.9662 - val_loss: 0.0919 - val_accuracy: 0.9747\n",
            "Epoch 12/30\n",
            "469/469 [==============================] - 2s 4ms/step - loss: 0.1104 - accuracy: 0.9665 - val_loss: 0.0928 - val_accuracy: 0.9734\n",
            "Epoch 13/30\n",
            "469/469 [==============================] - 2s 5ms/step - loss: 0.1046 - accuracy: 0.9689 - val_loss: 0.0902 - val_accuracy: 0.9773\n",
            "Epoch 14/30\n",
            "469/469 [==============================] - 3s 6ms/step - loss: 0.0996 - accuracy: 0.9697 - val_loss: 0.0888 - val_accuracy: 0.9751\n",
            "Epoch 15/30\n",
            "469/469 [==============================] - 2s 4ms/step - loss: 0.0989 - accuracy: 0.9697 - val_loss: 0.0871 - val_accuracy: 0.9754\n",
            "Epoch 16/30\n",
            "469/469 [==============================] - 2s 4ms/step - loss: 0.0983 - accuracy: 0.9705 - val_loss: 0.0876 - val_accuracy: 0.9757\n",
            "Epoch 17/30\n",
            "469/469 [==============================] - 2s 4ms/step - loss: 0.0941 - accuracy: 0.9713 - val_loss: 0.0934 - val_accuracy: 0.9767\n",
            "Epoch 18/30\n",
            "469/469 [==============================] - 2s 4ms/step - loss: 0.0929 - accuracy: 0.9722 - val_loss: 0.0944 - val_accuracy: 0.9759\n",
            "Epoch 19/30\n",
            "469/469 [==============================] - 2s 4ms/step - loss: 0.0908 - accuracy: 0.9729 - val_loss: 0.0945 - val_accuracy: 0.9761\n",
            "Epoch 20/30\n",
            "469/469 [==============================] - 3s 6ms/step - loss: 0.0910 - accuracy: 0.9720 - val_loss: 0.0901 - val_accuracy: 0.9767\n",
            "Epoch 21/30\n",
            "469/469 [==============================] - 2s 4ms/step - loss: 0.0859 - accuracy: 0.9740 - val_loss: 0.0951 - val_accuracy: 0.9764\n",
            "Epoch 22/30\n",
            "469/469 [==============================] - 2s 4ms/step - loss: 0.0894 - accuracy: 0.9737 - val_loss: 0.0902 - val_accuracy: 0.9761\n",
            "Epoch 23/30\n",
            "469/469 [==============================] - 2s 4ms/step - loss: 0.0855 - accuracy: 0.9740 - val_loss: 0.0956 - val_accuracy: 0.9763\n",
            "Epoch 24/30\n",
            "469/469 [==============================] - 2s 4ms/step - loss: 0.0808 - accuracy: 0.9758 - val_loss: 0.1020 - val_accuracy: 0.9753\n",
            "Epoch 25/30\n",
            "469/469 [==============================] - 2s 5ms/step - loss: 0.0839 - accuracy: 0.9747 - val_loss: 0.0944 - val_accuracy: 0.9756\n",
            "Epoch 26/30\n",
            "469/469 [==============================] - 3s 5ms/step - loss: 0.0818 - accuracy: 0.9752 - val_loss: 0.0957 - val_accuracy: 0.9764\n",
            "Epoch 27/30\n",
            "469/469 [==============================] - 2s 4ms/step - loss: 0.0818 - accuracy: 0.9754 - val_loss: 0.1050 - val_accuracy: 0.9764\n",
            "Epoch 28/30\n",
            "469/469 [==============================] - 2s 4ms/step - loss: 0.0779 - accuracy: 0.9762 - val_loss: 0.0975 - val_accuracy: 0.9770\n",
            "Epoch 29/30\n",
            "469/469 [==============================] - 2s 4ms/step - loss: 0.0781 - accuracy: 0.9764 - val_loss: 0.1003 - val_accuracy: 0.9763\n",
            "Epoch 30/30\n",
            "469/469 [==============================] - 2s 4ms/step - loss: 0.0783 - accuracy: 0.9767 - val_loss: 0.0994 - val_accuracy: 0.9761\n"
          ]
        }
      ],
      "source": [
        "learning_rate = .001\n",
        "model.compile(loss='categorical_crossentropy',\n",
        "              optimizer=RMSprop(lr=learning_rate),\n",
        "              metrics=['accuracy'])\n",
        "batch_size = 128  # mini-batch with 128 examples\n",
        "epochs = 30\n",
        "\n",
        "history = model.fit(\n",
        "    x_train, y_train,\n",
        "    batch_size=batch_size,\n",
        "    epochs=epochs,\n",
        "    verbose=1,\n",
        "    validation_data=(x_test, y_test))"
      ]
    },
    {
      "cell_type": "markdown",
      "id": "forty-trout",
      "metadata": {
        "id": "forty-trout"
      },
      "source": [
        "Use Keras evaluate function to evaluate performance on the test set"
      ]
    },
    {
      "cell_type": "code",
      "execution_count": null,
      "id": "random-ballet",
      "metadata": {
        "colab": {
          "base_uri": "https://localhost:8080/"
        },
        "id": "random-ballet",
        "outputId": "96eec3bf-12ab-4ea8-9509-427e09aac1a1"
      },
      "outputs": [
        {
          "name": "stdout",
          "output_type": "stream",
          "text": [
            "Test loss: 0.09936724603176117\n",
            "Test accuracy: 0.9761000275611877\n"
          ]
        }
      ],
      "source": [
        "score = model.evaluate(x_test, y_test, verbose=0)\n",
        "print('Test loss:', score[0])\n",
        "print('Test accuracy:', score[1])"
      ]
    },
    {
      "cell_type": "markdown",
      "id": "fatal-tournament",
      "metadata": {
        "id": "fatal-tournament"
      },
      "source": [
        "Interpret the result"
      ]
    },
    {
      "cell_type": "markdown",
      "id": "german-breed",
      "metadata": {
        "id": "german-breed"
      },
      "source": [
        "***The result shows the test loss and test accuracy. The lower the test loss the better because the goal is to minimize the loss function to measure the model's prediction in the test dataset. Since we have a lower test loss value which is 9.94 we expect that the test accuracy will be higher result. The accuracy in test dataset is 97.61 which means that the model performing better in testing dataset.***"
      ]
    },
    {
      "cell_type": "code",
      "execution_count": null,
      "id": "imported-impression",
      "metadata": {
        "colab": {
          "base_uri": "https://localhost:8080/",
          "height": 545
        },
        "id": "imported-impression",
        "outputId": "3520b786-c81c-4de2-e8ea-20e3324fe8ea"
      },
      "outputs": [
        {
          "data": {
            "image/png": "[encoded data removed]",
            "text/plain": [
              "<Figure size 1200x600 with 2 Axes>"
            ]
          },
          "metadata": {},
          "output_type": "display_data"
        }
      ],
      "source": [
        "def plot_loss_accuracy(history):\n",
        "    fig = plt.figure(figsize=(12, 6))\n",
        "    ax = fig.add_subplot(1, 2, 1)\n",
        "    ax.plot(history.history[\"loss\"],'r-x', label=\"Train Loss\")\n",
        "    ax.plot(history.history[\"val_loss\"],'b-x', label=\"Validation Loss\")\n",
        "    ax.legend()\n",
        "    ax.set_title('cross_entropy loss')\n",
        "    ax.grid(True)\n",
        "\n",
        "\n",
        "    ax = fig.add_subplot(1, 2, 2)\n",
        "    ax.plot(history.history[\"accuracy\"],'r-x', label=\"Train Accuracy\")\n",
        "    ax.plot(history.history[\"val_accuracy\"],'b-x', label=\"Validation Accuracy\")\n",
        "    ax.legend()\n",
        "    ax.set_title('accuracy')\n",
        "    ax.grid(True)\n",
        "\n",
        "plot_loss_accuracy(history)"
      ]
    },
    {
      "cell_type": "markdown",
      "id": "acoustic-recipient",
      "metadata": {
        "id": "acoustic-recipient"
      },
      "source": [
        "Interpret the result"
      ]
    },
    {
      "cell_type": "markdown",
      "id": "cross-hotel",
      "metadata": {
        "id": "cross-hotel"
      },
      "source": [
        "*In the loss graph, the training and validation loss decrease over epochs, which is a good indication for a model because it is effectively learning from the data. As epochs progress, the lines of train loss and validation loss start to converge, reaching a point where the learning does not improve its performance. The validation loss slows down and begins to plateau after converging with the train loss, while the train loss begins to decrease at a slower rate.*\n",
        "\n",
        "*In terms of accuracy, both training and validation loss increase, which means the model's predictions are becoming more precise over time. Like the graph of cross-entropy loss, both are converging and plateauing.*\n",
        "\n",
        "*It is normal for models to learn a lot from the start and then make smaller incremental improvements as they approach optimal performance.*"
      ]
    },
    {
      "cell_type": "markdown",
      "id": "PaZFUuaAH6G4",
      "metadata": {
        "id": "PaZFUuaAH6G4"
      },
      "source": [
        "## Supplementary Activity"
      ]
    },
    {
      "cell_type": "markdown",
      "id": "three-terrorist",
      "metadata": {
        "id": "three-terrorist"
      },
      "source": [
        "* Use the Keras \"Sequential\" functionality to build a new model (model_1) with the following specifications:\n",
        "\n",
        "\n",
        "1. Two hidden layers.\n",
        "2. First hidden layer of size 400 and second of size 300\n",
        "3. Dropout of .4 at each layer\n",
        "4. How many parameters does your model have?  How does it compare with the previous model?\n",
        "5. Train this model for 20 epochs with RMSProp at a learning rate of .001 and a batch size of 128\n",
        "6. Use at least two  regularization techniques and apply it to the new model (model_2)\n",
        "7. Train this model for your preferred epochs , learning rate, batch size and optimizer\n",
        "8. Compare the accuracy and loss (training and validation) of model_1 and model_2"
      ]
    },
    {
      "cell_type": "markdown",
      "id": "Aaks_IqGvuSV",
      "metadata": {
        "id": "Aaks_IqGvuSV"
      },
      "source": [
        "### Breast Cancer Dataset"
      ]
    },
    {
      "cell_type": "markdown",
      "id": "BiL8x4icG3ka",
      "metadata": {
        "id": "BiL8x4icG3ka"
      },
      "source": [
        "#### Data Preparation"
      ]
    },
    {
      "cell_type": "code",
      "execution_count": null,
      "id": "vTl3fINFG3Hu",
      "metadata": {
        "id": "vTl3fINFG3Hu"
      },
      "outputs": [],
      "source": [
        "import tensorflow as tf\n",
        "from sklearn.datasets import load_breast_cancer\n",
        "from sklearn.model_selection import train_test_split\n",
        "from tensorflow.keras.utils import to_categorical"
      ]
    },
    {
      "cell_type": "code",
      "execution_count": null,
      "id": "jh2cF3vywDKE",
      "metadata": {
        "id": "jh2cF3vywDKE"
      },
      "outputs": [],
      "source": [
        "data = load_breast_cancer()\n",
        "x = data.data\n",
        "y = data.target"
      ]
    },
    {
      "cell_type": "code",
      "execution_count": null,
      "id": "AachDXEa1Yjh",
      "metadata": {
        "id": "AachDXEa1Yjh"
      },
      "outputs": [],
      "source": [
        "x_train, x_test, y_train, y_test = train_test_split(x, y, test_size=0.2, random_state=42)"
      ]
    },
    {
      "cell_type": "code",
      "execution_count": null,
      "id": "fvY3Zuy4wJ9N",
      "metadata": {
        "id": "fvY3Zuy4wJ9N"
      },
      "outputs": [],
      "source": [
        "x_train = (x_train - x_train.mean(axis=0)) / x_train.std(axis=0)\n",
        "x_test = (x_test - x_test.mean(axis=0)) / x_test.std(axis=0)"
      ]
    },
    {
      "cell_type": "code",
      "execution_count": null,
      "id": "SFs5_7sX3JrM",
      "metadata": {
        "id": "SFs5_7sX3JrM"
      },
      "outputs": [],
      "source": [
        "y_train = to_categorical(y_train, 2)\n",
        "y_test = to_categorical(y_test, 2)"
      ]
    },
    {
      "cell_type": "markdown",
      "id": "Y9M4SU0LIKr2",
      "metadata": {
        "id": "Y9M4SU0LIKr2"
      },
      "source": [
        "#### Building Model"
      ]
    },
    {
      "cell_type": "markdown",
      "id": "jBPQKQS5494S",
      "metadata": {
        "id": "jBPQKQS5494S"
      },
      "source": [
        "##### Model 1"
      ]
    },
    {
      "cell_type": "code",
      "execution_count": null,
      "id": "w6D7Fg8kZgVq",
      "metadata": {
        "id": "w6D7Fg8kZgVq"
      },
      "outputs": [],
      "source": [
        "# Using keras.Sequential to create a model\n",
        "\n",
        "model_1 = Sequential([\n",
        "    Dense(400, activation='relu', input_shape=(x_train.shape[1],)), # First hidden layer\n",
        "    Dropout(0.4),\n",
        "    Dense(300, activation='relu'), # Second hidden layer\n",
        "    Dropout(0.4),\n",
        "    Dense(2, activation='softmax')\n",
        "])"
      ]
    },
    {
      "cell_type": "code",
      "execution_count": null,
      "id": "1YMLjuSNwWyl",
      "metadata": {
        "colab": {
          "base_uri": "https://localhost:8080/"
        },
        "id": "1YMLjuSNwWyl",
        "outputId": "8f0c36eb-f9b6-45fa-c143-c00574563076"
      },
      "outputs": [
        {
          "name": "stdout",
          "output_type": "stream",
          "text": [
            "Model: \"sequential_9\"\n",
            "_________________________________________________________________\n",
            " Layer (type)                Output Shape              Param #   \n",
            "=================================================================\n",
            " dense_27 (Dense)            (None, 400)               12400     \n",
            "                                                                 \n",
            " dropout_18 (Dropout)        (None, 400)               0         \n",
            "                                                                 \n",
            " dense_28 (Dense)            (None, 300)               120300    \n",
            "                                                                 \n",
            " dropout_19 (Dropout)        (None, 300)               0         \n",
            "                                                                 \n",
            " dense_29 (Dense)            (None, 2)                 602       \n",
            "                                                                 \n",
            "=================================================================\n",
            "Total params: 133302 (520.71 KB)\n",
            "Trainable params: 133302 (520.71 KB)\n",
            "Non-trainable params: 0 (0.00 Byte)\n",
            "_________________________________________________________________\n"
          ]
        }
      ],
      "source": [
        "model_1.summary()"
      ]
    },
    {
      "cell_type": "markdown",
      "id": "QP1yVbnvIOnT",
      "metadata": {
        "id": "QP1yVbnvIOnT"
      },
      "source": [
        "**How many parameters does your model have?**\n",
        "\n",
        "*Answer: Based on the model_1 summary the total params that the model_1 has 133,302 and also same with trainable params.*"
      ]
    },
    {
      "cell_type": "markdown",
      "id": "Bp2sycu1IjXo",
      "metadata": {
        "id": "Bp2sycu1IjXo"
      },
      "source": [
        "**How does it compare with the previous model??**\n",
        "\n",
        "*Answer: Based on the previous model build in the procedure the total params in the previous model only has 55,050*"
      ]
    },
    {
      "cell_type": "code",
      "execution_count": null,
      "id": "8-Y93pauwZXw",
      "metadata": {
        "id": "8-Y93pauwZXw"
      },
      "outputs": [],
      "source": [
        "# Compile model_1\n",
        "# Train this model for 20 epochs with RMSProp at a learning rate of .001 and a batch size of 128\n",
        "\n",
        "model_1.compile(optimizer=RMSprop(learning_rate=0.001),\n",
        "                loss='categorical_crossentropy',\n",
        "                metrics=['accuracy'])"
      ]
    },
    {
      "cell_type": "code",
      "execution_count": null,
      "id": "FFnIM2X0wb8B",
      "metadata": {
        "colab": {
          "base_uri": "https://localhost:8080/"
        },
        "id": "FFnIM2X0wb8B",
        "outputId": "6658f2da-a711-481a-8cb1-eb0cde2beb82"
      },
      "outputs": [
        {
          "name": "stdout",
          "output_type": "stream",
          "text": [
            "Epoch 1/20\n",
            "4/4 [==============================] - 1s 78ms/step - loss: 0.4283 - accuracy: 0.7978 - val_loss: 0.1258 - val_accuracy: 0.9561\n",
            "Epoch 2/20\n",
            "4/4 [==============================] - 0s 20ms/step - loss: 0.1516 - accuracy: 0.9451 - val_loss: 0.0914 - val_accuracy: 0.9737\n",
            "Epoch 3/20\n",
            "4/4 [==============================] - 0s 25ms/step - loss: 0.1179 - accuracy: 0.9692 - val_loss: 0.0776 - val_accuracy: 0.9825\n",
            "Epoch 4/20\n",
            "4/4 [==============================] - 0s 19ms/step - loss: 0.0921 - accuracy: 0.9692 - val_loss: 0.0753 - val_accuracy: 0.9737\n",
            "Epoch 5/20\n",
            "4/4 [==============================] - 0s 24ms/step - loss: 0.0760 - accuracy: 0.9780 - val_loss: 0.0702 - val_accuracy: 0.9737\n",
            "Epoch 6/20\n",
            "4/4 [==============================] - 0s 19ms/step - loss: 0.0689 - accuracy: 0.9846 - val_loss: 0.0634 - val_accuracy: 0.9825\n",
            "Epoch 7/20\n",
            "4/4 [==============================] - 0s 18ms/step - loss: 0.0609 - accuracy: 0.9758 - val_loss: 0.0638 - val_accuracy: 0.9825\n",
            "Epoch 8/20\n",
            "4/4 [==============================] - 0s 24ms/step - loss: 0.0558 - accuracy: 0.9802 - val_loss: 0.0632 - val_accuracy: 0.9825\n",
            "Epoch 9/20\n",
            "4/4 [==============================] - 0s 24ms/step - loss: 0.0547 - accuracy: 0.9846 - val_loss: 0.0659 - val_accuracy: 0.9825\n",
            "Epoch 10/20\n",
            "4/4 [==============================] - 0s 19ms/step - loss: 0.0480 - accuracy: 0.9912 - val_loss: 0.0656 - val_accuracy: 0.9825\n",
            "Epoch 11/20\n",
            "4/4 [==============================] - 0s 18ms/step - loss: 0.0464 - accuracy: 0.9868 - val_loss: 0.0665 - val_accuracy: 0.9825\n",
            "Epoch 12/20\n",
            "4/4 [==============================] - 0s 18ms/step - loss: 0.0331 - accuracy: 0.9890 - val_loss: 0.0691 - val_accuracy: 0.9825\n",
            "Epoch 13/20\n",
            "4/4 [==============================] - 0s 25ms/step - loss: 0.0428 - accuracy: 0.9890 - val_loss: 0.0709 - val_accuracy: 0.9825\n",
            "Epoch 14/20\n",
            "4/4 [==============================] - 0s 24ms/step - loss: 0.0344 - accuracy: 0.9934 - val_loss: 0.0751 - val_accuracy: 0.9737\n",
            "Epoch 15/20\n",
            "4/4 [==============================] - 0s 18ms/step - loss: 0.0331 - accuracy: 0.9890 - val_loss: 0.0724 - val_accuracy: 0.9737\n",
            "Epoch 16/20\n",
            "4/4 [==============================] - 0s 22ms/step - loss: 0.0249 - accuracy: 0.9956 - val_loss: 0.0738 - val_accuracy: 0.9737\n",
            "Epoch 17/20\n",
            "4/4 [==============================] - 0s 19ms/step - loss: 0.0274 - accuracy: 0.9934 - val_loss: 0.0761 - val_accuracy: 0.9825\n",
            "Epoch 18/20\n",
            "4/4 [==============================] - 0s 19ms/step - loss: 0.0253 - accuracy: 0.9912 - val_loss: 0.0774 - val_accuracy: 0.9825\n",
            "Epoch 19/20\n",
            "4/4 [==============================] - 0s 18ms/step - loss: 0.0258 - accuracy: 0.9934 - val_loss: 0.0773 - val_accuracy: 0.9737\n",
            "Epoch 20/20\n",
            "4/4 [==============================] - 0s 18ms/step - loss: 0.0217 - accuracy: 0.9934 - val_loss: 0.0807 - val_accuracy: 0.9737\n"
          ]
        }
      ],
      "source": [
        "history_1 = model_1.fit(x_train,\n",
        "                        y_train,\n",
        "                        epochs=20,\n",
        "                        batch_size=128,\n",
        "                        verbose=1,\n",
        "                        validation_data=(x_test, y_test))"
      ]
    },
    {
      "cell_type": "code",
      "execution_count": null,
      "id": "QFzKfEDi6HR2",
      "metadata": {
        "colab": {
          "base_uri": "https://localhost:8080/"
        },
        "id": "QFzKfEDi6HR2",
        "outputId": "97a04dcc-8964-4962-abbe-cd158646001f"
      },
      "outputs": [
        {
          "name": "stdout",
          "output_type": "stream",
          "text": [
            "Test loss: 0.08070261776447296\n",
            "Test accuracy: 0.9736841917037964\n"
          ]
        }
      ],
      "source": [
        "score_1 = model_1.evaluate(x_test, y_test, verbose=0)\n",
        "\n",
        "print('Test loss:', score_1[0])\n",
        "print('Test accuracy:', score_1[1])"
      ]
    },
    {
      "cell_type": "markdown",
      "id": "uv8NIhvT6RUz",
      "metadata": {
        "id": "uv8NIhvT6RUz"
      },
      "source": [
        "***Analysis:*** *The results show that the test loss is 8.07, while the test accuracy is 97.37%. This indicates that the model is performing well on the testing dataset. The high accuracy in the testing dataset, even when using regularization techniques, is a positive sign of the model's performance.*"
      ]
    },
    {
      "cell_type": "markdown",
      "id": "qtkt3xGu5BmD",
      "metadata": {
        "id": "qtkt3xGu5BmD"
      },
      "source": [
        "##### Model 2"
      ]
    },
    {
      "cell_type": "code",
      "execution_count": null,
      "id": "fjXDilpfI8xr",
      "metadata": {
        "id": "fjXDilpfI8xr"
      },
      "outputs": [],
      "source": [
        "# Use at least two regularization techniques and apply it to the new model (model_2)\n",
        "\n",
        "model_2 = Sequential([\n",
        "    Dense(400, activation='relu', input_shape=(x_train.shape[1],), kernel_regularizer='l2'),\n",
        "    Dropout(0.4),\n",
        "    Dense(300, activation='relu', kernel_regularizer='l2'),\n",
        "    Dropout(0.4),\n",
        "    Dense(2, activation='softmax')\n",
        "])"
      ]
    },
    {
      "cell_type": "code",
      "execution_count": null,
      "id": "w9_w2yMrI92f",
      "metadata": {
        "id": "w9_w2yMrI92f"
      },
      "outputs": [],
      "source": [
        "# Train this model for your preferred epochs, learning rate, batch size and optimizer\n",
        "model_2.compile(optimizer='adam',\n",
        "                loss='categorical_crossentropy',\n",
        "                metrics=['accuracy'])"
      ]
    },
    {
      "cell_type": "code",
      "execution_count": null,
      "id": "XrZ39Vx8w37C",
      "metadata": {
        "colab": {
          "base_uri": "https://localhost:8080/"
        },
        "id": "XrZ39Vx8w37C",
        "outputId": "e319b853-0a3c-43ca-d2e5-07d91c3d6bde"
      },
      "outputs": [
        {
          "name": "stdout",
          "output_type": "stream",
          "text": [
            "Epoch 1/20\n",
            "4/4 [==============================] - 1s 129ms/step - loss: 4.4262 - accuracy: 0.7538 - val_loss: 3.9306 - val_accuracy: 0.9474\n",
            "Epoch 2/20\n",
            "4/4 [==============================] - 0s 41ms/step - loss: 3.8489 - accuracy: 0.9297 - val_loss: 3.5685 - val_accuracy: 0.9649\n",
            "Epoch 3/20\n",
            "4/4 [==============================] - 0s 70ms/step - loss: 3.5093 - accuracy: 0.9451 - val_loss: 3.2462 - val_accuracy: 0.9825\n",
            "Epoch 4/20\n",
            "4/4 [==============================] - 0s 42ms/step - loss: 3.1888 - accuracy: 0.9582 - val_loss: 2.9438 - val_accuracy: 0.9825\n",
            "Epoch 5/20\n",
            "4/4 [==============================] - 0s 36ms/step - loss: 2.8796 - accuracy: 0.9692 - val_loss: 2.6630 - val_accuracy: 0.9825\n",
            "Epoch 6/20\n",
            "4/4 [==============================] - 0s 31ms/step - loss: 2.6028 - accuracy: 0.9714 - val_loss: 2.4046 - val_accuracy: 0.9825\n",
            "Epoch 7/20\n",
            "4/4 [==============================] - 0s 28ms/step - loss: 2.3412 - accuracy: 0.9780 - val_loss: 2.1674 - val_accuracy: 0.9825\n",
            "Epoch 8/20\n",
            "4/4 [==============================] - 0s 51ms/step - loss: 2.1123 - accuracy: 0.9780 - val_loss: 1.9504 - val_accuracy: 0.9825\n",
            "Epoch 9/20\n",
            "4/4 [==============================] - 0s 45ms/step - loss: 1.8958 - accuracy: 0.9758 - val_loss: 1.7532 - val_accuracy: 0.9825\n",
            "Epoch 10/20\n",
            "4/4 [==============================] - 0s 39ms/step - loss: 1.6985 - accuracy: 0.9824 - val_loss: 1.5745 - val_accuracy: 0.9825\n",
            "Epoch 11/20\n",
            "4/4 [==============================] - 0s 26ms/step - loss: 1.5170 - accuracy: 0.9824 - val_loss: 1.4135 - val_accuracy: 0.9825\n",
            "Epoch 12/20\n",
            "4/4 [==============================] - 0s 24ms/step - loss: 1.3639 - accuracy: 0.9824 - val_loss: 1.2688 - val_accuracy: 0.9825\n",
            "Epoch 13/20\n",
            "4/4 [==============================] - 0s 24ms/step - loss: 1.2218 - accuracy: 0.9824 - val_loss: 1.1398 - val_accuracy: 0.9825\n",
            "Epoch 14/20\n",
            "4/4 [==============================] - 0s 24ms/step - loss: 1.0950 - accuracy: 0.9824 - val_loss: 1.0248 - val_accuracy: 0.9825\n",
            "Epoch 15/20\n",
            "4/4 [==============================] - 0s 19ms/step - loss: 0.9832 - accuracy: 0.9868 - val_loss: 0.9223 - val_accuracy: 0.9825\n",
            "Epoch 16/20\n",
            "4/4 [==============================] - 0s 17ms/step - loss: 0.8810 - accuracy: 0.9802 - val_loss: 0.8309 - val_accuracy: 0.9825\n",
            "Epoch 17/20\n",
            "4/4 [==============================] - 0s 16ms/step - loss: 0.7922 - accuracy: 0.9890 - val_loss: 0.7503 - val_accuracy: 0.9825\n",
            "Epoch 18/20\n",
            "4/4 [==============================] - 0s 16ms/step - loss: 0.7168 - accuracy: 0.9868 - val_loss: 0.6787 - val_accuracy: 0.9825\n",
            "Epoch 19/20\n",
            "4/4 [==============================] - 0s 16ms/step - loss: 0.6424 - accuracy: 0.9912 - val_loss: 0.6148 - val_accuracy: 0.9825\n",
            "Epoch 20/20\n",
            "4/4 [==============================] - 0s 16ms/step - loss: 0.5828 - accuracy: 0.9846 - val_loss: 0.5583 - val_accuracy: 0.9825\n"
          ]
        }
      ],
      "source": [
        "history_2 = model_2.fit(x_train,\n",
        "                        y_train,\n",
        "                        epochs=20,\n",
        "                        batch_size=128,\n",
        "                        verbose=1,\n",
        "                        validation_data=(x_test, y_test))"
      ]
    },
    {
      "cell_type": "code",
      "execution_count": null,
      "id": "iVZIPP6t5-H6",
      "metadata": {
        "colab": {
          "base_uri": "https://localhost:8080/"
        },
        "id": "iVZIPP6t5-H6",
        "outputId": "4e06036a-dbac-4c6c-e7f0-3159b6a62fd8"
      },
      "outputs": [
        {
          "name": "stdout",
          "output_type": "stream",
          "text": [
            "Test loss: 0.5583292245864868\n",
            "Test accuracy: 0.9824561476707458\n"
          ]
        }
      ],
      "source": [
        "score_2 = model_2.evaluate(x_test, y_test, verbose=0)\n",
        "print('Test loss:', score_2[0])\n",
        "print('Test accuracy:', score_2[1])"
      ]
    },
    {
      "cell_type": "markdown",
      "id": "4m7sdZfa6Kp8",
      "metadata": {
        "id": "4m7sdZfa6Kp8"
      },
      "source": [
        "***Analysis:*** *The total loss of the test dataset reaches up to 55.83% while the accuracy of the test dataset is 98.25% whihc is pretty high and it means that the model's performance is good and it can predict if the data is has breast cancer or not*"
      ]
    },
    {
      "cell_type": "markdown",
      "id": "6DjVv-xwJG5B",
      "metadata": {
        "id": "6DjVv-xwJG5B"
      },
      "source": [
        "#### Visualization"
      ]
    },
    {
      "cell_type": "code",
      "execution_count": null,
      "id": "NfjbjJot2Eny",
      "metadata": {
        "colab": {
          "base_uri": "https://localhost:8080/",
          "height": 545
        },
        "id": "NfjbjJot2Eny",
        "outputId": "b9066e03-aeef-4d71-8277-7fbd5b33ef4a"
      },
      "outputs": [
        {
          "data": {
            "image/png": "[encoded data removed]",
            "text/plain": [
              "<Figure size 1200x600 with 2 Axes>"
            ]
          },
          "metadata": {},
          "output_type": "display_data"
        }
      ],
      "source": [
        "# Compare the accuracy and loss (training and validation) of model_1 and model_2\n",
        "plot_loss_accuracy(history_1)"
      ]
    },
    {
      "cell_type": "markdown",
      "id": "qFATmmDVAA-l",
      "metadata": {
        "id": "qFATmmDVAA-l"
      },
      "source": [
        "***Interpretation:*** *In the graph of cross_entropy loss it shows that the training loss decreases over epoch this means the model means that (add more) while the validation loss it start from lower then ir slowly to plateau and little by little it increases the value of loss.\n",
        "In the acccuracy graph, the training set increases sharply and then it slowly increases while the validation accuracy it starts with high accuracy then there are times where the accuracy gets plateau and the decreases sometimes.*"
      ]
    },
    {
      "cell_type": "code",
      "execution_count": null,
      "id": "6ljhPPYW2ZPo",
      "metadata": {
        "colab": {
          "base_uri": "https://localhost:8080/",
          "height": 545
        },
        "id": "6ljhPPYW2ZPo",
        "outputId": "88b9447d-8d7c-49a6-e700-8269f8e6e396"
      },
      "outputs": [
        {
          "data": {
            "image/png": "[encoded data removed]",
            "text/plain": [
              "<Figure size 1200x600 with 2 Axes>"
            ]
          },
          "metadata": {},
          "output_type": "display_data"
        }
      ],
      "source": [
        "plot_loss_accuracy(history_2)"
      ]
    },
    {
      "cell_type": "markdown",
      "id": "1Q71iGPYAH_Q",
      "metadata": {
        "id": "1Q71iGPYAH_Q"
      },
      "source": [
        "**Interpretation:** *The cross_entropy loss graph shows the that the training and validation dataset decreases over epochs and the validation loss fluctuates but appears to show similar in decreasing trend over epochs, which is good sign because the model shows that is learning and improving performance and not overfitting to the training data. When it comes to the graph of accuracy, the training accuracy starts around 75% and increases over epochs this means that the model is performing well in the training data while the validation accuracy starts around 95% and it increases and then it plateau near 100%. This could means the model's performance has stopped improving in validation dataset.*"
      ]
    },
    {
      "cell_type": "markdown",
      "id": "classified-campaign",
      "metadata": {
        "id": "classified-campaign"
      },
      "source": [
        "## Conclusion"
      ]
    },
    {
      "cell_type": "markdown",
      "id": "relevant-thunder",
      "metadata": {
        "id": "relevant-thunder"
      },
      "source": [
        "In conclusion, this acitivity help us to understand what regularization do, if prevents to overfitting the model. The regularization techniques discourage the model from havinf fitting noise or irrelevant information int he training data and leading to simplier and more generalizable model. The regularization alo helps the model learn from the training dtaa and allowing it to perform well on the unseed data. It also helps to reduce the variance of the model's predictions.\n",
        "\n",
        "In the supplementary activity, I use the L1 and L2 regularization techniques and the dropout technique. In the first model I build the accuracy of the testing dataset is around 97% this model has only dropout technique while in the second model I build it has dropout and l2 regularization technique, after executing the model it reaches the accuracy of 98% which is 1% higher from the model1.\n",
        "\n",
        "In this activity, I learn how to implement the regularization technique and how it affects the model performance on predicting the data. This regularization technique helps the data to not overfit and becomes complex."
      ]
    }
  ],
  "metadata": {
    "colab": {
      "provenance": []
    },
    "kernelspec": {
      "display_name": "Python 3",
      "language": "python",
      "name": "python3"
    },
    "language_info": {
      "codemirror_mode": {
        "name": "ipython",
        "version": 3
      },
      "file_extension": ".py",
      "mimetype": "text/x-python",
      "name": "python",
      "nbconvert_exporter": "python",
      "pygments_lexer": "ipython3",
      "version": "3.7.10"
    }
  },
  "nbformat": 4,
  "nbformat_minor": 5
}
