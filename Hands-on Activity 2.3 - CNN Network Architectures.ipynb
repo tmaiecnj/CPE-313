{
  "cells": [
    {
      "cell_type": "markdown",
      "id": "celtic-bosnia",
      "metadata": {
        "id": "celtic-bosnia"
      },
      "source": [
        "# Activity 2.3 - CNN Network Architectures"
      ]
    },
    {
      "cell_type": "markdown",
      "id": "wireless-artist",
      "metadata": {
        "id": "wireless-artist"
      },
      "source": [
        "## Objective(s):\n",
        "\n",
        "This activity aims to introduce how to use CNN network architectures"
      ]
    },
    {
      "cell_type": "markdown",
      "id": "advised-diabetes",
      "metadata": {
        "id": "advised-diabetes"
      },
      "source": [
        "## Intended Learning Outcomes (ILOs):\n",
        "* Demonstrate how to use pretrained model in predicting the object\n",
        "* Evaluate the accuracy of each pretrained model"
      ]
    },
    {
      "cell_type": "markdown",
      "id": "graphic-north",
      "metadata": {
        "id": "graphic-north"
      },
      "source": [
        "## Resources:\n",
        "* Jupyter Notebook\n",
        "* MNIST"
      ]
    },
    {
      "cell_type": "markdown",
      "id": "stone-chancellor",
      "metadata": {
        "id": "stone-chancellor"
      },
      "source": [
        "## Procedures\n",
        "Load the necessary libraries"
      ]
    },
    {
      "cell_type": "code",
      "execution_count": 1,
      "id": "surprising-reputation",
      "metadata": {
        "id": "surprising-reputation",
        "colab": {
          "base_uri": "https://localhost:8080/"
        },
        "outputId": "14cef904-1ee3-458e-8f0a-5b57b6a4d815"
      },
      "outputs": [
        {
          "output_type": "stream",
          "name": "stdout",
          "text": [
            "Requirement already satisfied: opencv-python in /usr/local/lib/python3.10/dist-packages (4.8.0.76)\n",
            "Requirement already satisfied: numpy>=1.21.2 in /usr/local/lib/python3.10/dist-packages (from opencv-python) (1.25.2)\n",
            "Requirement already satisfied: pillow in /usr/local/lib/python3.10/dist-packages (9.4.0)\n"
          ]
        }
      ],
      "source": [
        "# install opencv if you haven't\n",
        "!pip install opencv-python\n",
        "!pip install pillow"
      ]
    },
    {
      "cell_type": "code",
      "source": [
        "!pip uninstall scipy"
      ],
      "metadata": {
        "colab": {
          "base_uri": "https://localhost:8080/"
        },
        "id": "Nq0yq0RBTzyV",
        "outputId": "2f83bba0-d853-4b87-9a7f-9e85b8809df8"
      },
      "id": "Nq0yq0RBTzyV",
      "execution_count": 8,
      "outputs": [
        {
          "output_type": "stream",
          "name": "stdout",
          "text": [
            "Found existing installation: scipy 1.11.4\n",
            "Uninstalling scipy-1.11.4:\n",
            "  Would remove:\n",
            "    /usr/local/lib/python3.10/dist-packages/scipy-1.11.4.dist-info/*\n",
            "    /usr/local/lib/python3.10/dist-packages/scipy.libs/libgfortran-040039e1.so.5.0.0\n",
            "    /usr/local/lib/python3.10/dist-packages/scipy.libs/libopenblasp-r0-23e5df77.3.21.dev.so\n",
            "    /usr/local/lib/python3.10/dist-packages/scipy.libs/libquadmath-96973f99.so.0.0.0\n",
            "    /usr/local/lib/python3.10/dist-packages/scipy/*\n",
            "Proceed (Y/n)? y\n",
            "  Successfully uninstalled scipy-1.11.4\n"
          ]
        }
      ]
    },
    {
      "cell_type": "code",
      "source": [
        "pip list"
      ],
      "metadata": {
        "id": "Vs_b25Q7l_DP"
      },
      "id": "Vs_b25Q7l_DP",
      "execution_count": null,
      "outputs": []
    },
    {
      "cell_type": "code",
      "source": [
        "!pip install scipy==1.1.0"
      ],
      "metadata": {
        "colab": {
          "base_uri": "https://localhost:8080/"
        },
        "id": "9DA-Fi_Nk-yH",
        "outputId": "c90bb63a-f50b-4d7e-c56d-2204f10161be"
      },
      "id": "9DA-Fi_Nk-yH",
      "execution_count": null,
      "outputs": [
        {
          "output_type": "stream",
          "name": "stdout",
          "text": [
            "Collecting scipy==1.1.0\n",
            "  Using cached scipy-1.1.0.tar.gz (15.6 MB)\n",
            "  Preparing metadata (setup.py) ... \u001b[?25l\u001b[?25hdone\n",
            "Building wheels for collected packages: scipy\n"
          ]
        }
      ]
    },
    {
      "cell_type": "code",
      "execution_count": 11,
      "id": "timely-wings",
      "metadata": {
        "id": "timely-wings",
        "colab": {
          "base_uri": "https://localhost:8080/",
          "height": 384
        },
        "outputId": "e2f592a6-c7da-485f-cf8c-5dadc1667a38"
      },
      "outputs": [
        {
          "output_type": "error",
          "ename": "ModuleNotFoundError",
          "evalue": "No module named 'scipy.misc.pilutil'",
          "traceback": [
            "\u001b[0;31m---------------------------------------------------------------------------\u001b[0m",
            "\u001b[0;31mModuleNotFoundError\u001b[0m                       Traceback (most recent call last)",
            "\u001b[0;32m<ipython-input-11-52f8e61daed4>\u001b[0m in \u001b[0;36m<cell line: 7>\u001b[0;34m()\u001b[0m\n\u001b[1;32m      5\u001b[0m \u001b[0;34m\u001b[0m\u001b[0m\n\u001b[1;32m      6\u001b[0m \u001b[0;32mimport\u001b[0m \u001b[0mcv2\u001b[0m\u001b[0;34m\u001b[0m\u001b[0;34m\u001b[0m\u001b[0m\n\u001b[0;32m----> 7\u001b[0;31m \u001b[0;32mfrom\u001b[0m \u001b[0mscipy\u001b[0m\u001b[0;34m.\u001b[0m\u001b[0mmisc\u001b[0m\u001b[0;34m.\u001b[0m\u001b[0mpilutil\u001b[0m \u001b[0;32mimport\u001b[0m \u001b[0mimread\u001b[0m\u001b[0;34m\u001b[0m\u001b[0;34m\u001b[0m\u001b[0m\n\u001b[0m\u001b[1;32m      8\u001b[0m \u001b[0;34m\u001b[0m\u001b[0m\n\u001b[1;32m      9\u001b[0m \u001b[0;32mimport\u001b[0m \u001b[0mmatplotlib\u001b[0m\u001b[0;34m.\u001b[0m\u001b[0mpyplot\u001b[0m \u001b[0;32mas\u001b[0m \u001b[0mplt\u001b[0m\u001b[0;34m\u001b[0m\u001b[0;34m\u001b[0m\u001b[0m\n",
            "\u001b[0;31mModuleNotFoundError\u001b[0m: No module named 'scipy.misc.pilutil'",
            "",
            "\u001b[0;31m---------------------------------------------------------------------------\u001b[0;32m\nNOTE: If your import is failing due to a missing package, you can\nmanually install dependencies using either !pip or !apt.\n\nTo view examples of installing some common dependencies, click the\n\"Open Examples\" button below.\n\u001b[0;31m---------------------------------------------------------------------------\u001b[0m\n"
          ],
          "errorDetails": {
            "actions": [
              {
                "action": "open_url",
                "actionText": "Open Examples",
                "url": "/notebooks/snippets/importing_libraries.ipynb"
              }
            ]
          }
        }
      ],
      "source": [
        "from PIL import Image\n",
        "from keras.preprocessing import image\n",
        "import numpy as np\n",
        "import pandas as pd\n",
        "\n",
        "import cv2\n",
        "from scipy.misc.pilutil import imread\n",
        "\n",
        "import matplotlib.pyplot as plt\n"
      ]
    },
    {
      "cell_type": "markdown",
      "id": "czech-medicaid",
      "metadata": {
        "id": "czech-medicaid"
      },
      "source": [
        "Create a function that will capture and save the image from your webcam"
      ]
    },
    {
      "cell_type": "code",
      "execution_count": null,
      "id": "formed-highland",
      "metadata": {
        "id": "formed-highland"
      },
      "outputs": [],
      "source": [
        "def get_image(camera):\n",
        "    retval, im = camera.read()\n",
        "    return im"
      ]
    },
    {
      "cell_type": "code",
      "execution_count": null,
      "id": "ongoing-statement",
      "metadata": {
        "id": "ongoing-statement"
      },
      "outputs": [],
      "source": [
        "def save_webcam_image(img_path):\n",
        "\n",
        "    try:\n",
        "        camera_port = 0\n",
        "        ramp_frames = 10\n",
        "\n",
        "        camera = cv2.VideoCapture(camera_port)\n",
        "\n",
        "        for i in range(ramp_frames):\n",
        "            retval, im_camera = camera.read()\n",
        "\n",
        "        retval, im_camera = camera.read()\n",
        "\n",
        "        im = cv2.resize(im_camera, (224, 224)).astype(np.float32)\n",
        "        cv2.imwrite(img_path, im)\n",
        "        del (camera)\n",
        "        return True\n",
        "    except ValueError as e:\n",
        "        print(\"Image Capture Failed\")\n",
        "    return False"
      ]
    },
    {
      "cell_type": "markdown",
      "id": "retired-syndrome",
      "metadata": {
        "id": "retired-syndrome"
      },
      "source": [
        "* Test your function.\n",
        "* Place a clock or any object\n",
        "* Display the saved image"
      ]
    },
    {
      "cell_type": "code",
      "execution_count": null,
      "id": "qualified-shoot",
      "metadata": {
        "id": "qualified-shoot"
      },
      "outputs": [],
      "source": [
        "img_path = \"webcam_test_img.png\"\n",
        "\n",
        "if save_webcam_image(img_path) is False:\n",
        "    # Webcam not active, use the Dog Image\n",
        "    img_path = \"rocking_chair.jpg\"\n",
        "    print(\"Using the Test Rocking Chair Image: {}\".format(img_path))"
      ]
    },
    {
      "cell_type": "code",
      "execution_count": null,
      "id": "driven-legislature",
      "metadata": {
        "id": "driven-legislature"
      },
      "outputs": [],
      "source": [
        "plt.imshow(imread(img_path))"
      ]
    },
    {
      "cell_type": "markdown",
      "id": "hungry-bones",
      "metadata": {
        "id": "hungry-bones"
      },
      "source": [
        "Use VGG-16 pre-trained model"
      ]
    },
    {
      "cell_type": "code",
      "execution_count": null,
      "id": "injured-partition",
      "metadata": {
        "id": "injured-partition"
      },
      "outputs": [],
      "source": [
        "from keras.applications import vgg16\n",
        "\n",
        "\n",
        "vgg16_model = vgg16.VGG16(weights='imagenet')\n",
        "vgg16_model.summary()"
      ]
    },
    {
      "cell_type": "markdown",
      "id": "sustainable-italian",
      "metadata": {
        "id": "sustainable-italian"
      },
      "source": [
        "Create a function to load model, image, preprocess input and targets"
      ]
    },
    {
      "cell_type": "code",
      "execution_count": null,
      "id": "mechanical-rates",
      "metadata": {
        "id": "mechanical-rates"
      },
      "outputs": [],
      "source": [
        "def predict_image(model, img_path, preprocess_input_fn, decode_predictions_fn, target_size=(224, 224)):\n",
        "\n",
        "    img = image.load_img(img_path, target_size=target_size)\n",
        "    x = image.img_to_array(img)\n",
        "    x = np.expand_dims(x, axis=0)\n",
        "    x = preprocess_input_fn(x)\n",
        "\n",
        "    preds = model.predict(x)\n",
        "    predictions_df = pd.DataFrame(decode_predictions_fn(preds, top=10)[0])\n",
        "    predictions_df.columns = [\"Predicted Class\", \"Name\", \"Probability\"]\n",
        "    return predictions_df"
      ]
    },
    {
      "cell_type": "markdown",
      "id": "collected-recommendation",
      "metadata": {
        "id": "collected-recommendation"
      },
      "source": [
        "Predict the result"
      ]
    },
    {
      "cell_type": "code",
      "execution_count": null,
      "id": "wicked-czech",
      "metadata": {
        "id": "wicked-czech"
      },
      "outputs": [],
      "source": [
        "predict_image(vgg16_model, img_path, vgg16.preprocess_input, vgg16.decode_predictions)"
      ]
    },
    {
      "cell_type": "markdown",
      "id": "intermediate-scholar",
      "metadata": {
        "id": "intermediate-scholar"
      },
      "source": [
        "Interpret the result of prediction using VGG16 model"
      ]
    },
    {
      "cell_type": "markdown",
      "id": "cheap-festival",
      "metadata": {
        "id": "cheap-festival"
      },
      "source": [
        "type your answer here"
      ]
    },
    {
      "cell_type": "markdown",
      "id": "prostate-upgrade",
      "metadata": {
        "id": "prostate-upgrade"
      },
      "source": [
        "Use Resnet50 pretrained model"
      ]
    },
    {
      "cell_type": "code",
      "execution_count": null,
      "id": "saving-encyclopedia",
      "metadata": {
        "id": "saving-encyclopedia"
      },
      "outputs": [],
      "source": [
        "from keras.applications import resnet50\n",
        "\n",
        "resnet50_model = resnet50.ResNet50(weights='imagenet')\n",
        "\n",
        "resnet50_model.summary()"
      ]
    },
    {
      "cell_type": "markdown",
      "id": "essential-observation",
      "metadata": {
        "id": "essential-observation"
      },
      "source": [
        "Predict the result"
      ]
    },
    {
      "cell_type": "code",
      "execution_count": null,
      "id": "departmental-brother",
      "metadata": {
        "id": "departmental-brother"
      },
      "outputs": [],
      "source": [
        "predict_image(resnet50_model, img_path, resnet50.preprocess_input, resnet50.decode_predictions)"
      ]
    },
    {
      "cell_type": "markdown",
      "id": "chicken-blues",
      "metadata": {
        "id": "chicken-blues"
      },
      "source": [
        "Interpret the result using RESNET50 pretrained model"
      ]
    },
    {
      "cell_type": "markdown",
      "id": "female-gardening",
      "metadata": {
        "id": "female-gardening"
      },
      "source": [
        "type your answer here"
      ]
    },
    {
      "cell_type": "markdown",
      "id": "filled-marine",
      "metadata": {
        "id": "filled-marine"
      },
      "source": [
        "## Supplementary Activity"
      ]
    },
    {
      "cell_type": "markdown",
      "id": "foster-lobby",
      "metadata": {
        "id": "foster-lobby"
      },
      "source": [
        "* Use at least three pretrained model and predict the result using the saved image.\n",
        "* Compare their accuracy results."
      ]
    },
    {
      "cell_type": "code",
      "execution_count": null,
      "id": "biological-empire",
      "metadata": {
        "id": "biological-empire"
      },
      "outputs": [],
      "source": [
        "#### type your code here"
      ]
    },
    {
      "cell_type": "markdown",
      "id": "recovered-flooring",
      "metadata": {
        "id": "recovered-flooring"
      },
      "source": [
        "## Conclusion"
      ]
    },
    {
      "cell_type": "markdown",
      "id": "atlantic-still",
      "metadata": {
        "id": "atlantic-still"
      },
      "source": [
        "type your answer here"
      ]
    },
    {
      "cell_type": "code",
      "execution_count": null,
      "id": "metallic-elevation",
      "metadata": {
        "id": "metallic-elevation"
      },
      "outputs": [],
      "source": []
    }
  ],
  "metadata": {
    "kernelspec": {
      "display_name": "Python 3",
      "language": "python",
      "name": "python3"
    },
    "language_info": {
      "codemirror_mode": {
        "name": "ipython",
        "version": 3
      },
      "file_extension": ".py",
      "mimetype": "text/x-python",
      "name": "python",
      "nbconvert_exporter": "python",
      "pygments_lexer": "ipython3",
      "version": "3.7.10"
    },
    "colab": {
      "provenance": []
    }
  },
  "nbformat": 4,
  "nbformat_minor": 5
}