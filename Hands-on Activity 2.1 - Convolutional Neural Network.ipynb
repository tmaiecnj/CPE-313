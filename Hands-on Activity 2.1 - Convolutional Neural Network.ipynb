{
  "cells": [
    {
      "cell_type": "markdown",
      "id": "historic-trainer",
      "metadata": {
        "id": "historic-trainer"
      },
      "source": [
        "# Activity 2.1 : Convolutional Neural Network"
      ]
    },
    {
      "cell_type": "markdown",
      "id": "olive-manner",
      "metadata": {
        "id": "olive-manner"
      },
      "source": [
        "## Objective(s):\n",
        "\n",
        "This activity aims to introduce how to build a convolutional neural network"
      ]
    },
    {
      "cell_type": "markdown",
      "id": "happy-transport",
      "metadata": {
        "id": "happy-transport"
      },
      "source": [
        "## Intended Learning Outcomes (ILOs):\n",
        "* Demonstrate how to build and train convolutional neural network\n",
        "* Evaluate the accuracy and loss of the model using convolutional neural network"
      ]
    },
    {
      "cell_type": "markdown",
      "id": "leading-providence",
      "metadata": {
        "id": "leading-providence"
      },
      "source": [
        "## Resources:\n",
        "* Jupyter Notebook\n",
        "* CIFAR-10 dataset"
      ]
    },
    {
      "cell_type": "markdown",
      "id": "literary-trail",
      "metadata": {
        "id": "literary-trail"
      },
      "source": [
        "## Procedures\n",
        "Load the necessary libraries"
      ]
    },
    {
      "cell_type": "code",
      "execution_count": null,
      "id": "stretch-active",
      "metadata": {
        "id": "stretch-active"
      },
      "outputs": [],
      "source": [
        "from __future__ import print_function\n",
        "import keras\n",
        "from keras.datasets import cifar10\n",
        "from keras.preprocessing.image import ImageDataGenerator\n",
        "from keras.models import Sequential\n",
        "from keras.layers import Dense, Dropout, Activation, Flatten\n",
        "from keras.layers import Conv2D, MaxPooling2D\n",
        "\n",
        "import matplotlib.pyplot as plt\n",
        "%matplotlib inline"
      ]
    },
    {
      "cell_type": "markdown",
      "id": "collaborative-seating",
      "metadata": {
        "id": "collaborative-seating"
      },
      "source": [
        "* Shuffle the data\n",
        "* Split the data into train and test sets"
      ]
    },
    {
      "cell_type": "code",
      "execution_count": null,
      "id": "modular-springer",
      "metadata": {
        "colab": {
          "base_uri": "https://localhost:8080/"
        },
        "id": "modular-springer",
        "outputId": "e791790a-23b2-4f92-eb3e-88aa690f40a9"
      },
      "outputs": [
        {
          "name": "stdout",
          "output_type": "stream",
          "text": [
            "Downloading data from https://www.cs.toronto.edu/~kriz/cifar-10-python.tar.gz\n",
            "170498071/170498071 [==============================] - 2s 0us/step\n",
            "x_train shape: (50000, 32, 32, 3)\n",
            "50000 train samples\n",
            "10000 test samples\n"
          ]
        }
      ],
      "source": [
        "(x_train, y_train), (x_test, y_test) = cifar10.load_data()\n",
        "print('x_train shape:', x_train.shape)\n",
        "print(x_train.shape[0], 'train samples')\n",
        "print(x_test.shape[0], 'test samples')"
      ]
    },
    {
      "cell_type": "markdown",
      "id": "female-carolina",
      "metadata": {
        "id": "female-carolina"
      },
      "source": [
        "Check the image size"
      ]
    },
    {
      "cell_type": "code",
      "execution_count": null,
      "id": "alleged-stephen",
      "metadata": {
        "colab": {
          "base_uri": "https://localhost:8080/"
        },
        "id": "alleged-stephen",
        "outputId": "cd0c10d8-97ba-4f8d-b18a-f1c482fb16cc"
      },
      "outputs": [
        {
          "data": {
            "text/plain": [
              "(32, 32, 3)"
            ]
          },
          "execution_count": 3,
          "metadata": {},
          "output_type": "execute_result"
        }
      ],
      "source": [
        "x_train[444].shape"
      ]
    },
    {
      "cell_type": "markdown",
      "id": "conscious-twenty",
      "metadata": {
        "id": "conscious-twenty"
      },
      "source": [
        "Visualize one of the images"
      ]
    },
    {
      "cell_type": "code",
      "execution_count": null,
      "id": "positive-creation",
      "metadata": {
        "colab": {
          "base_uri": "https://localhost:8080/",
          "height": 448
        },
        "id": "positive-creation",
        "outputId": "fb1bbf2c-e354-459b-cc0a-8a7fc29be462"
      },
      "outputs": [
        {
          "name": "stdout",
          "output_type": "stream",
          "text": [
            "[9]\n"
          ]
        },
        {
          "data": {
            "image/png": "[encoded data removed]",
            "text/plain": [
              "<Figure size 640x480 with 1 Axes>"
            ]
          },
          "metadata": {},
          "output_type": "display_data"
        }
      ],
      "source": [
        "print(y_train[444])\n",
        "plt.imshow(x_train[444]);"
      ]
    },
    {
      "cell_type": "code",
      "execution_count": null,
      "id": "animated-rotation",
      "metadata": {
        "id": "animated-rotation"
      },
      "outputs": [],
      "source": [
        "num_classes = 10\n",
        "\n",
        "y_train = keras.utils.to_categorical(y_train, num_classes)\n",
        "y_test = keras.utils.to_categorical(y_test, num_classes)"
      ]
    },
    {
      "cell_type": "markdown",
      "id": "severe-filing",
      "metadata": {
        "id": "severe-filing"
      },
      "source": [
        "Instead of classes described by an integer between 0-9 we have a vector with a 1 in the (Pythonic) 9th position"
      ]
    },
    {
      "cell_type": "code",
      "execution_count": null,
      "id": "genetic-centre",
      "metadata": {
        "colab": {
          "base_uri": "https://localhost:8080/"
        },
        "id": "genetic-centre",
        "outputId": "d1e6c4af-929a-48a9-d7d1-59b5f3084752"
      },
      "outputs": [
        {
          "data": {
            "text/plain": [
              "array([0., 0., 0., 0., 0., 0., 0., 0., 0., 1.], dtype=float32)"
            ]
          },
          "execution_count": 6,
          "metadata": {},
          "output_type": "execute_result"
        }
      ],
      "source": [
        "y_train[444]"
      ]
    },
    {
      "cell_type": "markdown",
      "id": "detected-education",
      "metadata": {
        "id": "detected-education"
      },
      "source": [
        "Convert to float and scale the datasets"
      ]
    },
    {
      "cell_type": "code",
      "execution_count": null,
      "id": "familiar-damages",
      "metadata": {
        "id": "familiar-damages"
      },
      "outputs": [],
      "source": [
        "x_train = x_train.astype('float32')\n",
        "x_test = x_test.astype('float32')\n",
        "x_train /= 255\n",
        "x_test /= 255"
      ]
    },
    {
      "cell_type": "markdown",
      "id": "bizarre-smith",
      "metadata": {
        "id": "bizarre-smith"
      },
      "source": [
        "Build a CNN using Keras Sequential"
      ]
    },
    {
      "cell_type": "code",
      "execution_count": null,
      "id": "understanding-milan",
      "metadata": {
        "colab": {
          "base_uri": "https://localhost:8080/"
        },
        "id": "understanding-milan",
        "outputId": "e399800d-d1fd-4853-97fe-840f8fa106f6"
      },
      "outputs": [
        {
          "name": "stdout",
          "output_type": "stream",
          "text": [
            "Model: \"sequential\"\n",
            "_________________________________________________________________\n",
            " Layer (type)                Output Shape              Param #   \n",
            "=================================================================\n",
            " conv2d (Conv2D)             (None, 16, 16, 32)        2432      \n",
            "                                                                 \n",
            " activation (Activation)     (None, 16, 16, 32)        0         \n",
            "                                                                 \n",
            " conv2d_1 (Conv2D)           (None, 6, 6, 32)          25632     \n",
            "                                                                 \n",
            " activation_1 (Activation)   (None, 6, 6, 32)          0         \n",
            "                                                                 \n",
            " max_pooling2d (MaxPooling2  (None, 3, 3, 32)          0         \n",
            " D)                                                              \n",
            "                                                                 \n",
            " dropout (Dropout)           (None, 3, 3, 32)          0         \n",
            "                                                                 \n",
            " flatten (Flatten)           (None, 288)               0         \n",
            "                                                                 \n",
            " dense (Dense)               (None, 512)               147968    \n",
            "                                                                 \n",
            " activation_2 (Activation)   (None, 512)               0         \n",
            "                                                                 \n",
            " dropout_1 (Dropout)         (None, 512)               0         \n",
            "                                                                 \n",
            " dense_1 (Dense)             (None, 10)                5130      \n",
            "                                                                 \n",
            " activation_3 (Activation)   (None, 10)                0         \n",
            "                                                                 \n",
            "=================================================================\n",
            "Total params: 181162 (707.66 KB)\n",
            "Trainable params: 181162 (707.66 KB)\n",
            "Non-trainable params: 0 (0.00 Byte)\n",
            "_________________________________________________________________\n"
          ]
        }
      ],
      "source": [
        "model_1 = Sequential()\n",
        "\n",
        "## 5x5 convolution with 2x2 stride and 32 filters\n",
        "model_1.add(Conv2D(32, (5, 5), strides = (2,2), padding='same',\n",
        "                 input_shape=x_train.shape[1:]))\n",
        "model_1.add(Activation('relu'))\n",
        "\n",
        "## Another 5x5 convolution with 2x2 stride and 32 filters\n",
        "model_1.add(Conv2D(32, (5, 5), strides = (2,2)))\n",
        "model_1.add(Activation('relu'))\n",
        "\n",
        "## 2x2 max pooling reduces to 3 x 3 x 32\n",
        "model_1.add(MaxPooling2D(pool_size=(2, 2)))\n",
        "model_1.add(Dropout(0.25))\n",
        "\n",
        "## Flatten turns 3x3x32 into 288x1\n",
        "model_1.add(Flatten())\n",
        "model_1.add(Dense(512))\n",
        "model_1.add(Activation('relu'))\n",
        "model_1.add(Dropout(0.5))\n",
        "model_1.add(Dense(num_classes))\n",
        "model_1.add(Activation('softmax'))\n",
        "\n",
        "model_1.summary()"
      ]
    },
    {
      "cell_type": "markdown",
      "id": "baking-portable",
      "metadata": {
        "id": "baking-portable"
      },
      "source": [
        "* Use batch size of 32\n",
        "* Initiate RMSprop optimizer\n",
        "* Train the model using RMSprop"
      ]
    },
    {
      "cell_type": "code",
      "execution_count": null,
      "id": "removed-memorial",
      "metadata": {
        "colab": {
          "base_uri": "https://localhost:8080/"
        },
        "id": "removed-memorial",
        "outputId": "096e6e44-f2e2-48c8-eab6-56116a222d18"
      },
      "outputs": [
        {
          "name": "stderr",
          "output_type": "stream",
          "text": [
            "WARNING:absl:`lr` is deprecated in Keras optimizer, please use `learning_rate` or use the legacy optimizer, e.g.,tf.keras.optimizers.legacy.RMSprop.\n"
          ]
        },
        {
          "name": "stdout",
          "output_type": "stream",
          "text": [
            "Epoch 1/15\n",
            "1563/1563 [==============================] - 32s 20ms/step - loss: 1.6845 - accuracy: 0.3896 - val_loss: 1.5475 - val_accuracy: 0.4527\n",
            "Epoch 2/15\n",
            "1563/1563 [==============================] - 31s 20ms/step - loss: 1.4147 - accuracy: 0.4934 - val_loss: 1.3244 - val_accuracy: 0.5195\n",
            "Epoch 3/15\n",
            "1563/1563 [==============================] - 30s 19ms/step - loss: 1.3242 - accuracy: 0.5299 - val_loss: 1.3200 - val_accuracy: 0.5417\n",
            "Epoch 4/15\n",
            "1563/1563 [==============================] - 30s 19ms/step - loss: 1.2859 - accuracy: 0.5499 - val_loss: 1.3237 - val_accuracy: 0.5375\n",
            "Epoch 5/15\n",
            "1563/1563 [==============================] - 31s 20ms/step - loss: 1.2530 - accuracy: 0.5640 - val_loss: 1.2098 - val_accuracy: 0.5768\n",
            "Epoch 6/15\n",
            "1563/1563 [==============================] - 30s 19ms/step - loss: 1.2403 - accuracy: 0.5704 - val_loss: 1.1683 - val_accuracy: 0.6004\n",
            "Epoch 7/15\n",
            "1563/1563 [==============================] - 30s 19ms/step - loss: 1.2263 - accuracy: 0.5805 - val_loss: 1.1851 - val_accuracy: 0.6028\n",
            "Epoch 8/15\n",
            "1563/1563 [==============================] - 29s 19ms/step - loss: 1.2359 - accuracy: 0.5781 - val_loss: 1.3567 - val_accuracy: 0.5207\n",
            "Epoch 9/15\n",
            "1563/1563 [==============================] - 30s 19ms/step - loss: 1.2289 - accuracy: 0.5821 - val_loss: 1.1696 - val_accuracy: 0.6162\n",
            "Epoch 10/15\n",
            "1563/1563 [==============================] - 30s 19ms/step - loss: 1.2357 - accuracy: 0.5825 - val_loss: 1.2864 - val_accuracy: 0.5547\n",
            "Epoch 11/15\n",
            "1563/1563 [==============================] - 31s 20ms/step - loss: 1.2443 - accuracy: 0.5808 - val_loss: 1.1619 - val_accuracy: 0.5982\n",
            "Epoch 12/15\n",
            "1563/1563 [==============================] - 29s 18ms/step - loss: 1.2458 - accuracy: 0.5816 - val_loss: 1.1402 - val_accuracy: 0.6142\n",
            "Epoch 13/15\n",
            "1563/1563 [==============================] - 29s 18ms/step - loss: 1.2635 - accuracy: 0.5787 - val_loss: 1.2079 - val_accuracy: 0.6086\n",
            "Epoch 14/15\n",
            "1563/1563 [==============================] - 32s 21ms/step - loss: 1.2652 - accuracy: 0.5775 - val_loss: 1.2667 - val_accuracy: 0.5766\n",
            "Epoch 15/15\n",
            "1563/1563 [==============================] - 29s 18ms/step - loss: 1.2729 - accuracy: 0.5778 - val_loss: 1.4888 - val_accuracy: 0.4991\n"
          ]
        },
        {
          "data": {
            "text/plain": [
              "<keras.src.callbacks.History at 0x78c1ac923d90>"
            ]
          },
          "execution_count": 9,
          "metadata": {},
          "output_type": "execute_result"
        }
      ],
      "source": [
        "batch_size = 32\n",
        "\n",
        "opt = keras.optimizers.RMSprop(lr=0.0005)\n",
        "\n",
        "\n",
        "model_1.compile(loss='categorical_crossentropy',\n",
        "              optimizer=opt,\n",
        "              metrics=['accuracy'])\n",
        "\n",
        "model_1.fit(x_train, y_train,\n",
        "              batch_size=batch_size,\n",
        "              epochs=15,\n",
        "              validation_data=(x_test, y_test))"
      ]
    },
    {
      "cell_type": "markdown",
      "id": "jewish-lambda",
      "metadata": {
        "id": "jewish-lambda"
      },
      "source": [
        "## Supplementary Activity"
      ]
    },
    {
      "cell_type": "markdown",
      "id": "southeast-theater",
      "metadata": {
        "id": "southeast-theater"
      },
      "source": [
        "* Build a more complicated model with the following pattern:\n",
        "Conv -> Conv -> MaxPool -> Conv -> Conv -> MaxPool -> (Flatten) -> Dense -> Final Classification\n",
        "\n",
        "* Use strides of 1 for all convolutional layers.\n",
        "\n",
        "* Write the number of parameters of your model  and compare it to the previous model\n",
        "\n",
        "* Train it for 5 epochs. Compare the training time, loss and accuracy numbers (on both the training and validation sets)?\n",
        "\n",
        "* Use different structures and run times, and see how accurate your model can be."
      ]
    },
    {
      "cell_type": "code",
      "execution_count": null,
      "id": "gMW463wsyA5y",
      "metadata": {
        "id": "gMW463wsyA5y"
      },
      "outputs": [],
      "source": [
        "from keras import layers, models"
      ]
    },
    {
      "cell_type": "markdown",
      "id": "WUBZ81_u9nlx",
      "metadata": {
        "id": "WUBZ81_u9nlx"
      },
      "source": [
        "#### ***Build a more complicated model with the following pattern:***\n",
        "***Conv -> Conv -> MaxPool -> Conv -> Conv -> MaxPool -> (Flatten) -> Dense -> Final Classification***\n",
        "\n",
        "#### ***Use strides of 1 for all convolutional layers.***"
      ]
    },
    {
      "cell_type": "code",
      "execution_count": null,
      "id": "AUNbcNZOgsIz",
      "metadata": {
        "id": "AUNbcNZOgsIz"
      },
      "outputs": [],
      "source": [
        "supple_model_1 = models.Sequential([\n",
        "    layers.Conv2D(32, (3,3), strides=(1,1), activation='relu', padding='same', input_shape=(32,32,3)),\n",
        "    layers.Conv2D(64, (3,3), strides=(1,1), activation='relu', padding='same'),\n",
        "    layers.MaxPooling2D((2,2)),\n",
        "\n",
        "    layers.Conv2D(64, (3,3), strides=(1,1), activation='relu', padding='same'),\n",
        "    layers.Conv2D(128, (3,3), strides=(1,1), activation='relu', padding='same'),\n",
        "    layers.MaxPooling2D(2,2),\n",
        "\n",
        "    layers.Flatten(),\n",
        "    layers.Dense(256, activation='relu'),\n",
        "\n",
        "    layers.Dense(10, activation='softmax')\n",
        "])"
      ]
    },
    {
      "cell_type": "code",
      "execution_count": null,
      "id": "5HLPAaxUje0l",
      "metadata": {
        "colab": {
          "base_uri": "https://localhost:8080/"
        },
        "id": "5HLPAaxUje0l",
        "outputId": "a717bc06-4279-4da5-9771-e02df7ddf03f"
      },
      "outputs": [
        {
          "name": "stdout",
          "output_type": "stream",
          "text": [
            "Model: \"sequential_1\"\n",
            "_________________________________________________________________\n",
            " Layer (type)                Output Shape              Param #   \n",
            "=================================================================\n",
            " conv2d_2 (Conv2D)           (None, 32, 32, 32)        896       \n",
            "                                                                 \n",
            " conv2d_3 (Conv2D)           (None, 32, 32, 64)        18496     \n",
            "                                                                 \n",
            " max_pooling2d_1 (MaxPoolin  (None, 16, 16, 64)        0         \n",
            " g2D)                                                            \n",
            "                                                                 \n",
            " conv2d_4 (Conv2D)           (None, 16, 16, 64)        36928     \n",
            "                                                                 \n",
            " conv2d_5 (Conv2D)           (None, 16, 16, 128)       73856     \n",
            "                                                                 \n",
            " max_pooling2d_2 (MaxPoolin  (None, 8, 8, 128)         0         \n",
            " g2D)                                                            \n",
            "                                                                 \n",
            " flatten_1 (Flatten)         (None, 8192)              0         \n",
            "                                                                 \n",
            " dense_2 (Dense)             (None, 256)               2097408   \n",
            "                                                                 \n",
            " dense_3 (Dense)             (None, 10)                2570      \n",
            "                                                                 \n",
            "=================================================================\n",
            "Total params: 2230154 (8.51 MB)\n",
            "Trainable params: 2230154 (8.51 MB)\n",
            "Non-trainable params: 0 (0.00 Byte)\n",
            "_________________________________________________________________\n"
          ]
        }
      ],
      "source": [
        "supple_model_1.summary()"
      ]
    },
    {
      "cell_type": "markdown",
      "id": "MXSU4Xj099BQ",
      "metadata": {
        "id": "MXSU4Xj099BQ"
      },
      "source": [
        "#### ***Comparing the number of parameters from the previous model to this model:***\n",
        "\n",
        "**Answer**"
      ]
    },
    {
      "cell_type": "code",
      "execution_count": null,
      "id": "-LdasqYQymgO",
      "metadata": {
        "colab": {
          "base_uri": "https://localhost:8080/"
        },
        "id": "-LdasqYQymgO",
        "outputId": "39f5516f-1b22-4443-e479-f9f2555c0403"
      },
      "outputs": [
        {
          "name": "stderr",
          "output_type": "stream",
          "text": [
            "WARNING:absl:`lr` is deprecated in Keras optimizer, please use `learning_rate` or use the legacy optimizer, e.g.,tf.keras.optimizers.legacy.RMSprop.\n"
          ]
        }
      ],
      "source": [
        "opt = keras.optimizers.RMSprop(lr=0.0005)\n",
        "\n",
        "supple_model_1.compile(loss='categorical_crossentropy',\n",
        "              optimizer=opt,\n",
        "              metrics=['accuracy'])"
      ]
    },
    {
      "cell_type": "markdown",
      "id": "fVWpGO8_-UWw",
      "metadata": {
        "id": "fVWpGO8_-UWw"
      },
      "source": [
        "#### ***Train it for 5 epochs.***"
      ]
    },
    {
      "cell_type": "code",
      "execution_count": null,
      "id": "sNAMJfhfy1Cw",
      "metadata": {
        "colab": {
          "background_save": true,
          "base_uri": "https://localhost:8080/"
        },
        "id": "sNAMJfhfy1Cw",
        "outputId": "c789d76c-3d87-4139-dff8-fd372be3c2be"
      },
      "outputs": [
        {
          "name": "stdout",
          "output_type": "stream",
          "text": [
            "Epoch 1/5\n",
            "1563/1563 [==============================] - 437s 279ms/step - loss: 1.3677 - accuracy: 0.5115 - val_loss: 0.9748 - val_accuracy: 0.6537\n",
            "Epoch 2/5\n",
            "1563/1563 [==============================] - 461s 295ms/step - loss: 0.8499 - accuracy: 0.7048 - val_loss: 0.8224 - val_accuracy: 0.7124\n",
            "Epoch 3/5\n",
            "1563/1563 [==============================] - 451s 289ms/step - loss: 0.6376 - accuracy: 0.7797 - val_loss: 0.8769 - val_accuracy: 0.7072\n",
            "Epoch 4/5\n",
            "1563/1563 [==============================] - 446s 285ms/step - loss: 0.4911 - accuracy: 0.8309 - val_loss: 1.1025 - val_accuracy: 0.6829\n",
            "Epoch 5/5\n",
            "1563/1563 [==============================] - 444s 284ms/step - loss: 0.3820 - accuracy: 0.8715 - val_loss: 0.9054 - val_accuracy: 0.7621\n"
          ]
        }
      ],
      "source": [
        "runhist_model1 = supple_model_1.fit(x_train, y_train,\n",
        "                                    batch_size = 32,\n",
        "                                    epochs = 5,\n",
        "                                    validation_data = (x_test, y_test))"
      ]
    },
    {
      "cell_type": "code",
      "execution_count": null,
      "id": "97xsoYCHzUAX",
      "metadata": {
        "colab": {
          "background_save": true
        },
        "id": "97xsoYCHzUAX",
        "outputId": "34999a32-c702-4995-9534-dad01421cbc0"
      },
      "outputs": [
        {
          "name": "stdout",
          "output_type": "stream",
          "text": [
            "313/313 [==============================] - 23s 73ms/step - loss: 0.9054 - accuracy: 0.7621\n",
            "Test loss: 0.9054360389709473\n",
            "Test accuracy: 0.7620999813079834\n"
          ]
        }
      ],
      "source": [
        "score = test_loss, test_acc = supple_model_1.evaluate(x_test, y_test)\n",
        "print('Test loss:', score[0])\n",
        "print('Test accuracy:', score[1])"
      ]
    },
    {
      "cell_type": "markdown",
      "id": "XMq9TJoP-cF5",
      "metadata": {
        "id": "XMq9TJoP-cF5"
      },
      "source": [
        "#### ***Comparing the training time, loss and accuracy on both training and validation sets:***\n",
        "\n",
        " ***Answer***"
      ]
    },
    {
      "cell_type": "code",
      "execution_count": null,
      "id": "ClVgPwFwzbDx",
      "metadata": {
        "colab": {
          "background_save": true
        },
        "id": "ClVgPwFwzbDx",
        "outputId": "7161a059-12b7-4bba-8295-f2569ac2fa79"
      },
      "outputs": [
        {
          "data": {
            "text/plain": [
              "dict_keys(['loss', 'accuracy', 'val_loss', 'val_accuracy'])"
            ]
          },
          "execution_count": 16,
          "metadata": {},
          "output_type": "execute_result"
        }
      ],
      "source": [
        "runhist_model1.history.keys()"
      ]
    },
    {
      "cell_type": "markdown",
      "id": "EUKLzr1hex--",
      "metadata": {
        "id": "EUKLzr1hex--"
      },
      "source": [
        "#### Graph of Accuray and Loss (Training and Validation)"
      ]
    },
    {
      "cell_type": "code",
      "execution_count": null,
      "id": "2wb_FSZ3zjNo",
      "metadata": {
        "colab": {
          "background_save": true
        },
        "id": "2wb_FSZ3zjNo",
        "outputId": "b2af9859-59ee-4c15-e0e8-f6c96ebba068"
      },
      "outputs": [
        {
          "data": {
            "image/png": "[encoded data removed]",
            "text/plain": [
              "<Figure size 1200x600 with 2 Axes>"
            ]
          },
          "metadata": {},
          "output_type": "display_data"
        }
      ],
      "source": [
        "def plot_loss_accuracy(history):\n",
        "    fig = plt.figure(figsize=(12, 6))\n",
        "    ax = fig.add_subplot(1, 2, 1)\n",
        "    ax.plot(history.history[\"loss\"],'r-x', label=\"Train Loss\")\n",
        "    ax.plot(history.history[\"val_loss\"],'b-x', label=\"Validation Loss\")\n",
        "    ax.legend()\n",
        "    ax.set_title('cross_entropy loss')\n",
        "    ax.grid(True)\n",
        "\n",
        "\n",
        "    ax = fig.add_subplot(1, 2, 2)\n",
        "    ax.plot(history.history[\"accuracy\"],'r-x', label=\"Train Accuracy\")\n",
        "    ax.plot(history.history[\"val_accuracy\"],'b-x', label=\"Validation Accuracy\")\n",
        "    ax.legend()\n",
        "    ax.set_title('accuracy')\n",
        "    ax.grid(True)\n",
        "\n",
        "plot_loss_accuracy(runhist_model1)"
      ]
    },
    {
      "cell_type": "markdown",
      "id": "FvI0sW3d-woQ",
      "metadata": {
        "id": "FvI0sW3d-woQ"
      },
      "source": [
        "#### ***Use different structures and run times, and see how accurate your model can be.***"
      ]
    },
    {
      "cell_type": "code",
      "execution_count": null,
      "id": "qFDBGyuk_JOZ",
      "metadata": {
        "colab": {
          "background_save": true
        },
        "id": "qFDBGyuk_JOZ",
        "outputId": "701ddab4-46df-43ca-9760-a8a2763f54ec"
      },
      "outputs": [],
      "source": [
        "supple_model2 = models.Sequential([\n",
        "    # CONV-CONV-MAX-CONV-CONV-MAX-CONV-CONV-MAX-FLATTEN-DENSE-DENSE\n",
        "    layers.Conv2D(32, (3,3), strides=(2), activation='relu', padding='same', input_shape=(1,1,64)),\n",
        "    layers.Conv2D(32, (3,3), strides=(2), activation='relu', padding='same'),\n",
        "    layers.MaxPooling2D((2,2)),\n",
        "\n",
        "    layers.Conv2D(64, (3,3), strides=(2), activation='relu', padding='same'),\n",
        "    layers.Conv2D(64, (3,3), strides=(2), activation='relu', padding='same'),\n",
        "    layers.MaxPooling2D((2,2)),\n",
        "\n",
        "    layers.Conv2D(128, (3,3), strides=(2), activation='relu', padding='same'),\n",
        "    layers.Conv2D(128,(3,3), strides=(1,1), activation='relu', padding='same'),\n",
        "    layers.MaxPooling2D((2,2)),\n",
        "\n",
        "    layers.Flatten(),\n",
        "    layers.Dense(128, activation='relu'),\n",
        "\n",
        "    layers.Dense(10, activation='softmax')\n",
        "])"
      ]
    },
    {
      "cell_type": "code",
      "execution_count": null,
      "id": "tPvpMTz9i2F0",
      "metadata": {
        "colab": {
          "background_save": true
        },
        "id": "tPvpMTz9i2F0"
      },
      "outputs": [],
      "source": [
        "# model summary\n",
        "\n",
        "supple_model2.summary()"
      ]
    },
    {
      "cell_type": "code",
      "execution_count": null,
      "id": "gULmCeSUjHkT",
      "metadata": {
        "colab": {
          "background_save": true
        },
        "id": "gULmCeSUjHkT"
      },
      "outputs": [],
      "source": [
        "supple_model2.compile(loss='categorical_crossentropy',\n",
        "                      optimizer=Adam(learaning_rate=0.001),\n",
        "                      metrics = ['accuracy'])"
      ]
    },
    {
      "cell_type": "code",
      "execution_count": null,
      "id": "Z6uqtNgEjW07",
      "metadata": {
        "colab": {
          "background_save": true
        },
        "id": "Z6uqtNgEjW07"
      },
      "outputs": [],
      "source": [
        "runhist_model2 = supple_model2.fit(x_train, y_train,\n",
        "                                   batch_size = 32,\n",
        "                                   epochs = 3,\n",
        "                                   validation_data = (x_test, y_test)) # change"
      ]
    },
    {
      "cell_type": "code",
      "execution_count": null,
      "id": "S88KE1Uejodq",
      "metadata": {
        "colab": {
          "background_save": true
        },
        "id": "S88KE1Uejodq"
      },
      "outputs": [],
      "source": [
        "score2 = test_loss, test_acc = supple_model2.evaluate(x_test, y_test)\n",
        "\n",
        "print('Test Loss: ', score2[0])\n",
        "print('Test Accuracy: ', score2[1])"
      ]
    },
    {
      "cell_type": "code",
      "execution_count": null,
      "id": "j1kdaVMmj373",
      "metadata": {
        "colab": {
          "background_save": true
        },
        "id": "j1kdaVMmj373"
      },
      "outputs": [],
      "source": [
        "# plotting the loss and accuracy\n",
        "\n",
        "plot_loss_accuracy(runhist_model2)"
      ]
    },
    {
      "cell_type": "markdown",
      "id": "desirable-jackson",
      "metadata": {
        "id": "desirable-jackson"
      },
      "source": [
        "## Conclusion"
      ]
    },
    {
      "cell_type": "markdown",
      "id": "859c43fa",
      "metadata": {},
      "source": [
        "In conclusion, "
      ]
    }
  ],
  "metadata": {
    "colab": {
      "collapsed_sections": [
        "CVlB2Mp-c5l0",
        "desirable-jackson"
      ],
      "provenance": []
    },
    "kernelspec": {
      "display_name": "Python 3",
      "language": "python",
      "name": "python3"
    },
    "language_info": {
      "codemirror_mode": {
        "name": "ipython",
        "version": 3
      },
      "file_extension": ".py",
      "mimetype": "text/x-python",
      "name": "python",
      "nbconvert_exporter": "python",
      "pygments_lexer": "ipython3",
      "version": "3.7.10"
    }
  },
  "nbformat": 4,
  "nbformat_minor": 5
}
